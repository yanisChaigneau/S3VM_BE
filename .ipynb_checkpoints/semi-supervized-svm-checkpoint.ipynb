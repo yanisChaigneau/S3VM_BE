{
 "cells": [
  {
   "cell_type": "markdown",
   "metadata": {},
   "source": [
    "# <center>Semi-supervized Support Vector Machine (S3VM)</center>\n",
    "\n",
    "Auteur: Yanis Chaigneau<br>\n",
    "Contact: Yanis.CHAIGNEAU@student.isae-supaero.fr"
   ]
  },
  {
   "cell_type": "markdown",
   "metadata": {},
   "source": [
    "0. [Pré-requis](#sec0)\n",
    "1. [Introduction](#sec1)\n",
    "    1. [Machine Learning Semi-Supervisé](#sec1-1)\n",
    "    2. [Rappels de base sur les SVM](#sec1-2)\n",
    "    3. [Forme régularisée des SVM](#sec1-3)\n",
    "2. [SVM semi-supervisées (S3VM)](#sec2)\n",
    "    1. [Intuition sur les S3VM](#sec2-1)\n",
    "    2. [Utilisation les données non labéllisées](#sec2-2)\n",
    "    3. [Résolution du problème non convexe](#sec2-3)\n",
    "    4. [Bibliothèque de S3VM quasi-Newton](#sec2-4)\n",
    "3. [Application](#sec3)\n",
    "    1. [Breast Cancer Data](#sec3-1)\n",
    "    2. [Spam or Ham](#sec3-2)\n",
    "4. [Les différentes formes de SVM semi-supervisées: Avantages et inconvénients](#sec4)\n",
    "    1. [Les autres formes de SVM semi-supervisées](#sec4-1)\n",
    "        1. [Programmation Linéaire en Nombre Entiers](#sec4-1-1)\n",
    "        2. [Transductive support vector machines (TSVM)](#sec4-1-2)\n",
    "        3. [Laplacien support vector machines (LapSVM)](#sec4-1-3)\n",
    "        4. [meanS3VM](#sec4-1-4)\n",
    "        5. [Utilisation de modèles semi-supervisés sans modification de la SVM](#sec4-1-5)\n",
    "    2. [Commentaires généraux](#sec4-2)\n",
    "    3. [Utilisation de S3VM en multi-classes](#sec4-3)\n",
    "5. [Conclusion](#sec6)"
   ]
  },
  {
   "cell_type": "markdown",
   "metadata": {},
   "source": [
    "Les machines à support de vecteur ont démontrées leur robustesse et de très bonnes performances dans la classification et la régression. Elles sont bien généralisables et théoriquement solides pour de la classification. Dans ce Notebook, nous allons étudier l'équivalent semi-supervisé de ces modèles.\n",
    "\n",
    "Nous commencerons par une introduction sur l'apprentissage semi-supervisé et un rappel sur les SVM. Ensuite, nous développerons une méthode de SVM semi-supervisée en nous basant sur les cadres théoriques de ces modèles. Nous utiliserons alors une bibliothèque dédiée pour l'appliquer sur des datasets réels. Enfin, une dernière partie sera consacrée à la comparaison des différentes méthodes utilisées pour implémenter l'algorithme."
   ]
  },
  {
   "cell_type": "markdown",
   "metadata": {},
   "source": [
    " # <a id=\"sec0\"></a> 0) Pré-requis"
   ]
  },
  {
   "cell_type": "markdown",
   "metadata": {},
   "source": [
    "Pour suivre ce notebook, le lecteur est supposé avoir des connaissances générales en data science. En particulier, le lecteur doit connaître les bases sur les machines à supports de vecteurs (SVM). Si non, il est préférable de s'attaquer premièrement au <a href =\"https://github.com/erachelson/MLclass/blob/master/3%20-%20SVMs%2C%20bias-variance%2C%20and%20kernels/Support%20Vector%20Machines%2C%20Bias-Variance%20tradeoff%20and%20an%20Introduction%20to%20Kernel%20Theory.ipynb\">notebook sur les SVM</a> rédigé par Emmanuel Rachelson dans son cours de Machine Learning.\n",
    "\n",
    "Le temps nécessaire pour compléter ce notebook est estimé à un peu moins d'une heure et demi. Des indications approximatives de temps seront indiquées pour chaque partie.\n",
    "\n",
    "Les librairies suivantes seront utilisées tout au long du cours. Si vous êtes habitués à travailler dans les sciences de données, aucune installation particulière n'est nécessaire. Nous utiliserons cependant des librairies présentes dans le répertoire Github.\n"
   ]
  },
  {
   "cell_type": "code",
   "execution_count": 1,
   "metadata": {},
   "outputs": [],
   "source": [
    "from sys import path\n",
    "import load_spam\n",
    "\n",
    "import numpy as np\n",
    "import matplotlib.pyplot as plt\n",
    "\n",
    "import scipy.optimize as sopt\n",
    "from scipy.sparse import csc_matrix\n",
    "\n",
    "from sklearn import datasets\n",
    "from sklearn.utils import shuffle\n",
    "from sklearn import svm\n",
    "\n",
    "%matplotlib inline\n",
    "\n",
    "from random import Random\n",
    "import time\n",
    "\n",
    "import pandas as pd"
   ]
  },
  {
   "cell_type": "markdown",
   "metadata": {},
   "source": [
    "Lancez également ce code qui permet la numérotation des équations Latex sur Jupyter:"
   ]
  },
  {
   "cell_type": "code",
   "execution_count": 2,
   "metadata": {},
   "outputs": [
    {
     "data": {
      "application/javascript": [
       "MathJax.Hub.Config({\n",
       "    TeX: { equationNumbers: { autoNumber: \"AMS\" } }\n",
       "});\n"
      ],
      "text/plain": [
       "<IPython.core.display.Javascript object>"
      ]
     },
     "metadata": {},
     "output_type": "display_data"
    }
   ],
   "source": [
    "%%javascript\n",
    "MathJax.Hub.Config({\n",
    "    TeX: { equationNumbers: { autoNumber: \"AMS\" } }\n",
    "});"
   ]
  },
  {
   "cell_type": "markdown",
   "metadata": {},
   "source": [
    " # <a id=\"sec1\"></a> I) Introduction <font color=\"green\">(15 min)</font>"
   ]
  },
  {
   "cell_type": "markdown",
   "metadata": {},
   "source": [
    "## <a id=\"sec1-1\"></a><font color=\"red\">&nbsp;&nbsp;&nbsp;&nbsp;1) Machine Learning semi-supervisé </font> <font color=\"green\">(3 min)</font>"
   ]
  },
  {
   "cell_type": "markdown",
   "metadata": {},
   "source": [
    "Le développement massif des sciences des données et l'augmentation énorme de la taille des datasets à gérer a introduit de nouvelles problématiques dans le domaine du machine learning. En effet, les algorithmes de classification nécessitent  d'avoir un nombre suffisant de données labellisées en entrée de l'algorithme pour avoir une bonne généralisation. Cette tâche peut-être très couteuse économiquement et en temps. En effet, ce sont majoritairement des opérateurs humains qui doivent  la réaliser. Dans certains cas, les études peuvent être très longues (domaine médical par exemple). En revanche, la majorité des algorithmes de machine learning sont des algorithmes supervisés ne travaillant qu'avec des données labellisées.\n",
    "\n",
    "A partir de ce constat, un nouveau champ de recherche s'est développé dans le machine learning: <b>l'apprentissage semi-supervisé</b>. Comme son nom l'indique, il est à mi-chemin entre un apprentissage supervisé et un apprentissage non supervisé (données non classifiées). L'apprentissage s'effectue donc ici à partir de données labellisées et non labellisées. Dans la majorité des cas, les données non labellisées sont facile d'accès et peuvent donc être utilisées en très grand nombre. En particulier, le nombre de données classifiées doit être faible par rapport aux données non classifiées (moins de $10\\%$). La figure ci-dessous résume le principe de cette science:\n",
    "\n",
    "<a href=\"https://towardsdatascience.com/supervised-learning-but-a-lot-better-semi-supervised-learning-a42dff534781\"><img width=\"600px\" src=\"figures/semi_supervized_learning.png\" /></a>\n",
    "\n",
    "\n",
    "L'apprentissage semi-supervisé est un champ de recherche en développement du fait de son grand potentiel. En effet, son utilisation dans le cadre du <b>large scale learning</b> (apprentissage avec énormément de données) est intéressante puisque dans de nombreux cas, il est inenvisageable de labelliser chaque donnée. Vous pourrez trouver ci-dessous quelques exemples de cas d'applications de l'apprentissage semi-supervisé que le lecteur pourra lire selon son intéressement:\n",
    "\n",
    "<ul>\n",
    "<li><b>Utilisation de clustering semi-supervisé pour la détection d'attaques DDoS</b>: Muhammad Aamir, Syed Mustafa Ali Zaidi, Clustering based semi-supervised machine learning for DDoS attack classification, Journal of King Saud University - Computer and Information Sciences, 2019, ISSN 1319-1578, https://doi.org/10.1016/j.jksuci.2019.02.003. (<a href=\"http://www.sciencedirect.com/science/article/pii/S131915781831067X\">http://www.sciencedirect.com/science/article/pii/S131915781831067X</a>)</li>\n",
    "\n",
    "<li><b>Utilisation d'un algorithme de SVM semi-supervisé (l'objet de ce notebook) pour la reconnaissance d'Iris</b>: Liming Yang, Qiya Su, Boyan Yang, Dan Tong, Xi Xiao, A new semi-supervised support vector machine classifier based on wavelet transform and its application in the iris image recognition, International Journal of Applied Mathematics and Statistics, 2014, <a href=\"http://www.ceser.in/ceserp/index.php/ijamas/article/view/3140\">http://www.ceser.in/ceserp/index.php/ijamas/article/view/3140</a></li>\n",
    "</ul>\n",
    "\n",
    "Différentes méthodes permettent de mettre en place un type d'apprentissage semi-supervisé en utilisant des modèles supervisés. On peut par exemple citer les méthodes de graphes ou les modèles génératifs. Ces modèles peuvent être <a href=\"https://en.wikipedia.org/wiki/Transduction_%28machine_learning%29\">transductifs</a> (raisonnements sur des cas spécifiques) ou <a href=\"https://en.wikipedia.org/wiki/Inductive_reasoning\">inductifs</a> (raisonnements par généralisation). De plus amples informations peuvent également être retrouvées sur la page wikipédia dédiée à l'apprentissage semi-supervisé: <a href=\"https://en.wikipedia.org/wiki/Semi-supervised_learning\">Wikipédia </a>.\n",
    "\n",
    "Pour une première introduction à l'interet des apprentissages semi-supervisés, regardons la figure ci-dessous:\n",
    "\n",
    "<a href=\"https://en.wikipedia.org/wiki/Semi-supervised_learning\"><img width=\"200px\" src=\"figures/Example_of_unlabeled_data_in_semisupervised_learning.png\" alt=\"image1\"/> </a>\n",
    "\n",
    "Dans ce cas nous ne disposons que d'une donnée de chaque classe. Si nous tentions de réaliser un algorithme de classification supervisé (type SVM), nous n'arriverions pas à généraliser ce modèle sur les données non supervisées. Dans l'image du dessous, on voit que la prise en compte des données non labellisées permet de prendre en compte la forme des clusters et donc permet la généralisation du modèle.\n",
    "\n",
    "\n",
    "\n",
    "\n",
    "Dans ce notebook, nous allons tout particulièrement nous interesser aux <b>machines à support de vecteurs semi-supervisées (S3VM)</b>. Après un bref rappel des SVM supervisées, nous expliquerons le principe de fonctionnement des S3VM à travers différent exemples et une description mathématique. Ensuite, nous présenterons une bibliothèque dédiée aux S3VMs. Cette bibliothèque sera appliquée sur quelques exemples de datasets réels. Enfin, nous étudierons quelques autres propositions d'architecture développées par des chercheurs depuis le premier article sur le sujet en 1998 par Benentt et Demiriz. Cela nous permettra de mettre en lumière les forces et faiblesses de chaque méthode. Nous finirons par une dernière partie d'ouverture sur les S3VM en multi-classes.\n",
    "\n",
    "\n",
    "\n",
    "\n",
    "\n",
    "\n"
   ]
  },
  {
   "cell_type": "markdown",
   "metadata": {},
   "source": [
    "## <a id=\"sec1-2\"></a><font color=\"red\">&nbsp;&nbsp;&nbsp;&nbsp;2) Rappels sur les machines à support de vecteurs (SVM)</font> <font color=\"green\">(4 min)"
   ]
  },
  {
   "cell_type": "markdown",
   "metadata": {},
   "source": [
    "Avant de faire quelques rappels sur la science des SVMs, chargeons les données qui nous serviront de fil rouge pour le début de ce notebook (elles ont préalablement été générées avec le code genDataEx1.py présent dans le répertoire de travail).\n",
    "\n",
    "Dans toute la suite, la variable $X_l$ représentera les features des données labellisées et $y_l$ les labels associés. Ces données seront appelées <b>training set</b> dans le contexte de l'apprentissage semi-supervisé. A l'inverse, $X_u$ désignera les features des données non labellisées. Ce set de données sera appelé <b>working set</b>. Cependant, nous considérerons dans un premier temps que toutes les données sont labellisées, et elles seront représentées par les variables $X$ et $y$."
   ]
  },
  {
   "cell_type": "code",
   "execution_count": 86,
   "metadata": {},
   "outputs": [],
   "source": [
    "dataLab = pd.read_csv('data/exemple1/labelled.csv')\n",
    "dataUnLab = pd.read_csv('data/exemple1/unlabelled.csv')\n",
    "\n",
    "vals = dataLab.values\n",
    "Xl = np.array([[vals[j][1], vals[j][2]] for j in range(vals.shape[0])])\n",
    "yl = dataLab['y'].values\n",
    "     \n",
    "vals = dataUnLab.values\n",
    "Xu = np.array([[vals[j][1], vals[j][2]] for j in range(vals.shape[0])])\n",
    "yu = dataUnLab['y'].values\n",
    "\n",
    "X = np.concatenate((Xl, Xu))\n",
    "y = np.concatenate((yl, yu))"
   ]
  },
  {
   "cell_type": "code",
   "execution_count": 9,
   "metadata": {},
   "outputs": [
    {
     "data": {
      "text/plain": [
       "Text(0.5, 1.0, 'Two classes with all the data labelled')"
      ]
     },
     "execution_count": 9,
     "metadata": {},
     "output_type": "execute_result"
    },
    {
     "data": {
      "image/png": "[encoded data removed]",
      "text/plain": [
       "<Figure size 480x480 with 1 Axes>"
      ]
     },
     "metadata": {},
     "output_type": "display_data"
    }
   ],
   "source": [
    "fig=plt.figure(figsize=(6,6), dpi= 80, facecolor='w', edgecolor='k')\n",
    "plt.scatter(X[y==-1,0], X[y==-1,1], c='b',s=20, label='Class -1')\n",
    "plt.scatter(X[y==1,0], X[y==1,1], c='r',s=20, label='Class 1')\n",
    "plt.legend()\n",
    "plt.title('Two classes with all the data labelled')"
   ]
  },
  {
   "cell_type": "markdown",
   "metadata": {},
   "source": [
    "Les SVMs se basent sur une approche géométrique du Machine Learning, contrairement à beaucoup d'autres types d'algorithmes. Elles sont utilisées pour la régression, ou la classification et permettent d'obtenir de très bons résultats.\n",
    "\n",
    "Le principe de base est de séparer des données classifiées en maximisant une marge géométrique. Elles ont été proposées pour la première fois par Vapnik dans les années 1990. Nous cherchons alors un hyperplan qui <b>maximise la distance entre les points de chaque classe les plus proches</b>. On appelle la marge $M$ la distance qui sépare les deux hyperplans de classification contenant les points.\n",
    "\n",
    "On note $x_i$ les données et $y_i$ les labels associés, pour $i \\in \\{1,\\ldots,l\\}$ ($l$ est le nombre de données labélisées). Dans ce notebook, nous considérons que $y_i \\in \\{-1,1\\}, \\forall i \\in \\{1,\\ldots,l\\}$, et dans un premier temps toutes les données seront labélisées. L'équation d'un hyperplan s'écrit alors $(w.x)+w_0=0$. Finalement, après une manipulation pour nous affranchir de la marge, nous cherchons donc à résoudre le problème quadratique suivant:\n",
    "\n",
    "$$\\min_{w,w_0} \\frac{1}{2}\\|w\\|^2$$\n",
    "$$y_i (w^T x_i + w_0) \\geq 1, \\forall i \\in [1,l]$$\n",
    "\n",
    "Ce problème d'optimisation est convexe, et peut être résolu par un <i>Sequential Least Square Programming</i>. Nous définissons alors la fonction à optimiser et la contrainte d'inégalité comme ci-dessous:"
   ]
  },
  {
   "cell_type": "code",
   "execution_count": 10,
   "metadata": {},
   "outputs": [],
   "source": [
    "def funcSVM(w):\n",
    "    \"\"\"w=(w_0,w_1,w_2)\"\"\"\n",
    "    return .5*(w[1]**2 + w[2]**2)\n",
    "\n",
    "def ineq_constrSVM(w):\n",
    "    \"\"\"w=(w_0,w_1,w_2)\"\"\"\n",
    "    return y*(w[1]*X[:,0] + w[2]*X[:,1] + w[0]*np.ones(X.shape[0])) - np.ones(X.shape[0])\n",
    "\n",
    "\n",
    "# Ces fonctions seront utiles pour plus tard pour le cas des données labellisées et non labellisées.\n",
    "def funcSVMlabelled(w):\n",
    "    \"\"\"w=(w_0,w_1,w_2)\"\"\"\n",
    "    return .5*(w[1]**2 + w[2]**2)\n",
    "\n",
    "def ineq_constrSVMlabelled(w):\n",
    "    \"\"\"w=(w_0,w_1,w_2)\"\"\"\n",
    "    return yl*(w[1]*Xl[:,0] + w[2]*Xl[:,1] + w[0]*np.ones(Xl.shape[0])) - np.ones(Xl.shape[0])\n",
    "\n"
   ]
  },
  {
   "cell_type": "markdown",
   "metadata": {},
   "source": [
    "L'optimisation est réalisée à partir du module <i>optimize</i> de <i>scipy<i/>."
   ]
  },
  {
   "cell_type": "code",
   "execution_count": 13,
   "metadata": {},
   "outputs": [
    {
     "name": "stdout",
     "output_type": "stream",
     "text": [
      "Optimization terminated successfully.    (Exit mode 0)\n",
      "            Current function value: 7.756115241618813\n",
      "            Iterations: 2\n",
      "            Function evaluations: 10\n",
      "            Gradient evaluations: 2\n",
      "[22.74990071  0.29648994 -3.92738134]\n",
      "margin = 1.0\n"
     ]
    },
    {
     "data": {
      "image/png": "[encoded data removed]",
      "text/plain": [
       "<Figure size 480x480 with 1 Axes>"
      ]
     },
     "metadata": {},
     "output_type": "display_data"
    }
   ],
   "source": [
    "x0 = np.array([0.4,0.7,-1.])\n",
    "res = sopt.fmin_slsqp(funcSVM, x0, f_ieqcons=ineq_constrSVM)\n",
    "print(res)\n",
    "M = 1. # and not anymore M = 1. / np.linalg.norm(np.array([res[1],res[2]]))\n",
    "\n",
    "print(\"margin =\", M)\n",
    "fig=plt.figure(figsize=(6,6), dpi= 80, facecolor='w', edgecolor='k')\n",
    "plt.scatter(X[y==-1,0], X[y==-1,1], c='b',s=20, label='Class -1')\n",
    "plt.scatter(X[y==1,0], X[y==1,1], c='r',s=20, label='Class 1')\n",
    "plt.legend()\n",
    "plt.title('SVM')\n",
    "XX = np.arange(min([min(X[:,0]), min(X[:,0])])-1,max([max(X[:,0]), max(X[:,0])]),0.1)\n",
    "YY = -(res[1]*XX+res[0])/res[2]\n",
    "plt.plot(XX,YY,c='g')\n",
    "YY = -(res[1]*XX+res[0]+M)/res[2]\n",
    "plt.plot(XX,YY,'g--')\n",
    "YY = -(res[1]*XX+res[0]-M)/res[2]\n",
    "plt.plot(XX,YY,'g--');"
   ]
  },
  {
   "cell_type": "markdown",
   "metadata": {},
   "source": [
    "Sur cet exemple, on voit ainsi qu'avec toutes les données labélisées, nous arrivons à séparer les deux classes linéairement en deux hyperplans. Pour obtenir une prédiction avec un nouveau point, il suffit alors de calculer\n",
    "$w^T x + w_0$ et d'en étudier le signe.\n",
    "\n",
    "Dans la plupart des cas, il n'est pas possible de trouver une séparation de nos données linéaire. Pour cela, le <i>kernel trick</i> est utilisé, et permet de facilement passer dans le formalisme non-linéaire. Dans ce notebook, nous utiliserons principalement le kernel RBF et le kernel linéaire.\n",
    "\n",
    "Dans les parties suivantes, la théorie sera développée dans le cadre d'un <b>kernel linéaire</b>. Elle peut être facilement adaptée au cas d'un autre kernel.\n",
    "\n",
    "Dans la suite, nous utiliserons Scikit-Learn pour classifier nos données avec des SVMs (voir la <a href=\"http://scikit-learn.org/stable/modules/svm.html\">documentation</a> si besoin)."
   ]
  },
  {
   "cell_type": "markdown",
   "metadata": {},
   "source": [
    "## <a id=\"sec1-3\"></a><font color=\"red\">&nbsp;&nbsp;&nbsp;&nbsp;3) Forme régularisée des SVM</font> <font color='green'>(8 min)</font>\n"
   ]
  },
  {
   "cell_type": "markdown",
   "metadata": {},
   "source": [
    "Afin de comprendre comment utiliser les données non labelisées et donc introduire la notion de SVM semi-supervisée, nous allons nous intéresser à la thématique du <i>structural risk minimization</i> (SRM).\n",
    "\n",
    "Le principe de SRM est de permettre de trouver un compromis entre la complexité d'un modèle et sa capacité a fitter les données d'entrainement. En effet, l'utilisation de datasets d'entrainement finis comporte le risque d'apprendre les particularités du dataset d'entrainement et donc d'overfitter les données. Ainsi, la capacité de généralisation d'un modèle peut être faible. Dans le cadre de la SVM, en suivant ce principe, on s'autorise à prendre de plus grandes marges. Cela mène à une meilleure généralisation.\n",
    "\n",
    "En pratique, cette approche passe par une utilisation de la régularisation, qui permet d'augmenter la marge d'erreur. Afin de régulariser le problème de SVM, il est possible d'ajouter les <i>slack variables</i> $\\xi_i, i \\in \\{1 \\ldots l\\}$ qui représentent la distance de chaque point par rapport au mauvais côté de la marge associée. \n",
    "\n",
    "\\begin{equation}\n",
    "\\begin{array}{c}\n",
    "\\min\\limits_{w,w_0,\\xi} \\displaystyle\\frac{1}{2}\\|w\\|^2 + C\\sum\\limits_{i=1}^l \\xi_i\\\\\n",
    "\\text{ such that } \\forall i=1..l, \\left\\{\\begin{array}{l}\n",
    "y_i\\left(w^T x_i + w_0 \\right)\\geq 1-\\xi_i, \\\\\n",
    "\\xi_i\\geq 0\n",
    "\\end{array}\\right.\n",
    "\\end{array}\n",
    "\\label{eq:slack_SVM} \\tag{1}\n",
    "\\end{equation}\n",
    "\n",
    "où le paramètre $C$ permet de trouver un compromis entre une grande marge et peu de points mal classifiés. \n",
    "(Pour plus de détails, se réferer au <a href=\"https://github.com/erachelson/MLclass/blob/master/3%20-%20SVMs%2C%20bias-variance%2C%20and%20kernels/Support%20Vector%20Machines%2C%20Bias-Variance%20tradeoff%20and%20an%20Introduction%20to%20Kernel%20Theory.ipynb\">notebook d'Emmanuel Rachelson sur les SVM</a>)\n",
    "\n",
    "Cette formulation correspond à une formalisation de Structural Risk Minimization. (SRM)\n"
   ]
  },
  {
   "cell_type": "code",
   "execution_count": 14,
   "metadata": {},
   "outputs": [],
   "source": [
    "def func_reg(w):\n",
    "    \"\"\"w=(w_0,w_1,w_2)\"\"\"\n",
    "    return .5*(w[1]**2 + w[2]**2)+C*sum([w[3+i] for i in range(X.shape[0])])\n",
    "\n",
    "def ineq_constr_reg(w):\n",
    "    \"\"\"w=(w_0,w_1,w_2)\"\"\"\n",
    "    return y*(w[1]*X[:,0] + w[2]*X[:,1] + w[0]*np.ones(X.shape[0])) - np.ones(X.shape[0]) + [w[3+i] for i in range(X.shape[0])]\n"
   ]
  },
  {
   "cell_type": "code",
   "execution_count": 16,
   "metadata": {},
   "outputs": [
    {
     "name": "stdout",
     "output_type": "stream",
     "text": [
      "Optimization terminated successfully.    (Exit mode 0)\n",
      "            Current function value: 3.4539949752435986\n",
      "            Iterations: 8\n",
      "            Function evaluations: 1640\n",
      "            Gradient evaluations: 8\n"
     ]
    },
    {
     "data": {
      "image/png": "[encoded data removed]",
      "text/plain": [
       "<Figure size 480x480 with 1 Axes>"
      ]
     },
     "metadata": {},
     "output_type": "display_data"
    }
   ],
   "source": [
    "C = 1\n",
    "\n",
    "x0 = np.array(np.concatenate(([0.4,0.7,-1.], [0.5 for i in range(X.shape[0])])))\n",
    "inf = 10000000\n",
    "bounds = np.concatenate(([(-inf,inf), (-inf, inf), (-inf, inf)], [(0,inf) for i in range(X.shape[0])]))\n",
    "res = sopt.fmin_slsqp(func_reg, x0, f_ieqcons=ineq_constr_reg, bounds=bounds)\n",
    "M = 1. # and not anymore M = 1. / np.linalg.norm(np.array([res[1],res[2]]))\n",
    "\n",
    "fig=plt.figure(figsize=(6,6), dpi= 80, facecolor='w', edgecolor='k')\n",
    "plt.scatter(X[y==-1,0], X[y==-1,1], c='b',s=20, label='Class -1')\n",
    "plt.scatter(X[y==1,0], X[y==1,1], c='r',s=20, label='Class 1')\n",
    "plt.legend()\n",
    "plt.title('SVM with regularization')\n",
    "XX = np.arange(min([min(X[:,0]), min(X[:,0])])-1,max([max(X[:,0]), max(X[:,0])]),0.1)\n",
    "YY = -(res[1]*XX+res[0])/res[2]\n",
    "plt.plot(XX,YY,c='g')\n",
    "YY = -(res[1]*XX+res[0]+M)/res[2]\n",
    "plt.plot(XX,YY,'g--')\n",
    "YY = -(res[1]*XX+res[0]-M)/res[2]\n",
    "plt.plot(XX,YY,'g--');"
   ]
  },
  {
   "cell_type": "markdown",
   "metadata": {},
   "source": [
    "On remarque dans cette optimisation qu'une plus grande liberté est donnée,ce qui permet à des points d'être plus proches de la marge. Cela permet ainsi une meilleure généralisation.\n",
    "\n",
    "A partir de cette formulation du problème, nous pouvons aller plus loin et l'exprimer sous sa forme de risque régularisé, en prenant en compte la contrainte dans la fonction objectif:\n",
    "\n",
    "$$\\min(\\phi(w)) = \\min_{w, w_0}\\{\\frac{1}{2} \\| w\\|^2 + C \\sum^l_i \\max(1-y_i(w.x_i+w_0),0)\\}$$\n",
    "\n",
    "\n",
    "Ici, nous pouvons exprimer cette formulation à partir d'une notion clée de la classification: <b><a href=\"https://en.wikipedia.org/wiki/Loss_functions_for_classification\">les fonctions loss</a></b>.  Ces fonctions représentent le coût d'une mauvaise prédiction dans la classification. En particulier $\\mathcal{L}_h (y_i, w(x_i)) = \\max(1-y_i(w.x_i+w_0),0)$ est la fonction <i>Hinge Loss</i>. \n",
    "\n",
    "Regardons la forme de cette fonction:"
   ]
  },
  {
   "cell_type": "code",
   "execution_count": 35,
   "metadata": {},
   "outputs": [
    {
     "data": {
      "text/plain": [
       "<matplotlib.legend.Legend at 0x19ef5792308>"
      ]
     },
     "execution_count": 35,
     "metadata": {},
     "output_type": "execute_result"
    },
    {
     "data": {
      "image/png": "[encoded data removed]",
      "text/plain": [
       "<Figure size 216x216 with 1 Axes>"
      ]
     },
     "metadata": {
      "needs_background": "light"
     },
     "output_type": "display_data"
    }
   ],
   "source": [
    "def hinge_loss(y, t):\n",
    "    loss = max([0, 1-y*t])\n",
    "    return loss\n",
    "\n",
    "t1 = np.linspace(0,2,20)\n",
    "plt.figure(figsize=(3,3))\n",
    "plt.plot(t1, [hinge_loss(1, t) for t in t1], label='Hinge loss')\n",
    "\n",
    "plt.xlabel('t')\n",
    "plt.legend()"
   ]
  },
  {
   "cell_type": "markdown",
   "metadata": {},
   "source": [
    "On remarque que si $t$ et $y$ ont le même signe (ie bonne classification) et que le point est en dehors de la marge, alors la fonction de Hinge loss vaudra 0. A l'inverse,  s'ils sont de signes opposés ou si le point est situé dans la marge, la fonction de loss sera positive. On peut également remarquer que cette fonction est <b>convexe mais non différentiable en 1</b>.\n",
    "\n",
    "Dans le cadre de la SRM, on peut ainsi écrire la formulation suivante pour les SVM:\n",
    "\n",
    "$$\\boxed{\\min(\\phi(w)) = \\min_{w, w_0}\\{\\frac{1}{2} \\| w\\|^2 + C \\sum^l_i \\mathcal{L}_h (y_i, w(x_i)) \\}}$$ \n",
    "\n",
    "où $\\frac{1}{2} \\| w\\|^2$ est le terme de régularisation et $\\mathcal{L}_h (y_i, w(x_i)) = \\max(1-y_i(w.x_i+w_0),0)$ la fonction <i>Hinge Loss</i>. Cette fonction représente donc la fonction de loss des données labéllisées.\n",
    "\n",
    "Cette formulation va être intéressante pour la suite. On peut d'ailleurs voir dans le même exemple ci dessous que cette formulation est similaire à la formulation précédente. Elle permet d'avoir un formalisme d'optimisation sans contraintes."
   ]
  },
  {
   "cell_type": "code",
   "execution_count": 37,
   "metadata": {},
   "outputs": [],
   "source": [
    "def func_risk(w):\n",
    "    \"\"\"w=(w_0,w_1,w_2)\"\"\"\n",
    "    return .5*(w[1]**2 + w[2]**2)+C*sum([max([1-y[i]*(w[1]*X[i][0]+w[2]*X[i][1]+w[0]), 0]) for i in range(X.shape[0])])"
   ]
  },
  {
   "cell_type": "code",
   "execution_count": 38,
   "metadata": {},
   "outputs": [
    {
     "name": "stdout",
     "output_type": "stream",
     "text": [
      "Optimization terminated successfully.    (Exit mode 0)\n",
      "            Current function value: 3.4541295052405854\n",
      "            Iterations: 35\n",
      "            Function evaluations: 228\n",
      "            Gradient evaluations: 35\n",
      "[12.7674123  -0.059058   -1.89133903]\n"
     ]
    },
    {
     "data": {
      "image/png": "[encoded data removed]",
      "text/plain": [
       "<Figure size 480x480 with 1 Axes>"
      ]
     },
     "metadata": {},
     "output_type": "display_data"
    }
   ],
   "source": [
    "x0 = np.array([0.4,0.7,-1.])\n",
    "res = sopt.fmin_slsqp(func_risk, x0)\n",
    "print(res)\n",
    "M = 1. # and not anymore M = 1. / np.linalg.norm(np.array([res[1],res[2]]))\n",
    "\n",
    "fig=plt.figure(figsize=(6,6), dpi= 80, facecolor='w', edgecolor='k')\n",
    "plt.scatter(X[y==-1,0], X[y==-1,1], c='b',s=20, label='Class -1')\n",
    "plt.scatter(X[y==1,0], X[y==1,1], c='r',s=20, label='Class 1')\n",
    "plt.legend()\n",
    "plt.title('SVM with regularization')\n",
    "XX = np.arange(min([min(X[:,0]), min(X[:,0])])-1,max([max(X[:,0]), max(X[:,0])]),0.1)\n",
    "YY = -(res[1]*XX+res[0])/res[2]\n",
    "plt.plot(XX,YY,c='g')\n",
    "YY = -(res[1]*XX+res[0]+M)/res[2]\n",
    "plt.plot(XX,YY,'g--')\n",
    "YY = -(res[1]*XX+res[0]-M)/res[2]\n",
    "plt.plot(XX,YY,'g--');"
   ]
  },
  {
   "cell_type": "markdown",
   "metadata": {},
   "source": [
    "Dans ce paragraphe nous avons introduit la nécessité de l'apprentissage semi-supervisé, et nous avons rappelé les principes fondamentaux des machines à support de vecteur, en introduisant la forme SRM qui permet une meilleure généralisation de l'algorithme. En partant de cette généralisation, nous allons maintenant introduire les machines à support de vecteur semi-supervisées (S3VM)."
   ]
  },
  {
   "cell_type": "markdown",
   "metadata": {},
   "source": [
    "# <a id=\"sec2\"></a> II) SVM semi-supervisées (S3VM) <font color=\"green\"> (40 min)"
   ]
  },
  {
   "cell_type": "markdown",
   "metadata": {},
   "source": [
    "Nous venons de voir que les SVMs pouvaient être régularisées afin d'avoir une meilleure généralisation et pour réduire l'over-fitting. En partant de ce constat, nous allons maintenant nous intéresser au cas semi-supervisé et adapter la SVM pour ce cas de figure. \n",
    "\n",
    "Dans un premier temps, nous allons nous intéresser à l'intuition derrière cette problématique, puis nous verrons les solutions mathématiques et techniques publiées sur les S3VMs. Nous étudierons alors une bibliothèque dédiée aux S3VMs, et l'appliquerons sur notre exemple de début de cours."
   ]
  },
  {
   "cell_type": "markdown",
   "metadata": {},
   "source": [
    "## <a id=\"sec2-1\"></a><font color=\"red\">&nbsp;&nbsp;&nbsp;&nbsp;1) Intuition sur les S3VMs</font><font color=\"green\"> (5 min)</font>"
   ]
  },
  {
   "cell_type": "markdown",
   "metadata": {},
   "source": [
    "A partir de maintenant, nous considérons que nous ne connaissons le label d'une seule donnée de chaque classe seulement. Ainsi, nous utilisons désormais les variables $X_l$, $y_l$ et $X_u$. Pour le moment, l'algorithme de SVM ne peut donc utiliser que les seules données labellisées (de part son côté supervisé).\n",
    "\n",
    "Commencons par charger les données:"
   ]
  },
  {
   "cell_type": "code",
   "execution_count": 39,
   "metadata": {},
   "outputs": [
    {
     "data": {
      "text/plain": [
       "Text(0.5, 1.0, 'Only two labelled data')"
      ]
     },
     "execution_count": 39,
     "metadata": {},
     "output_type": "execute_result"
    },
    {
     "data": {
      "image/png": "[encoded data removed]",
      "text/plain": [
       "<Figure size 480x480 with 1 Axes>"
      ]
     },
     "metadata": {},
     "output_type": "display_data"
    }
   ],
   "source": [
    "fig=plt.figure(figsize=(6,6), dpi= 80, facecolor='w', edgecolor='k')\n",
    "plt.scatter(Xu[:,0], Xu[:,1], c='black',s=20, alpha=0.5, label='Unlabelled data')\n",
    "plt.scatter(Xl[yl==-1, 0], Xl[yl==-1,1], c='b', label='Class -1')\n",
    "plt.scatter(Xl[yl==1, 0], Xl[yl==1,1], c='r', label='Class 1')\n",
    "plt.legend()\n",
    "plt.title('Only two labelled data')"
   ]
  },
  {
   "cell_type": "markdown",
   "metadata": {},
   "source": [
    "Les données labellisées sont représentées en couleur sur le plot précédent. Essayons d'appliquer une stratégie à base de SVM sur nos données labellisées afin d'entrainer notre classifieur:"
   ]
  },
  {
   "cell_type": "code",
   "execution_count": 40,
   "metadata": {},
   "outputs": [
    {
     "data": {
      "text/plain": [
       "<matplotlib.contour.QuadContourSet at 0x19ef68d8988>"
      ]
     },
     "execution_count": 40,
     "metadata": {},
     "output_type": "execute_result"
    },
    {
     "data": {
      "image/png": "[encoded data removed]",
      "text/plain": [
       "<Figure size 480x480 with 1 Axes>"
      ]
     },
     "metadata": {},
     "output_type": "display_data"
    }
   ],
   "source": [
    "mySVC = svm.SVC(kernel='linear', C=1)\n",
    "mySVC.fit(Xl,yl)\n",
    "\n",
    "\n",
    "fig=plt.figure(figsize=(6,6), dpi= 80, facecolor='w', edgecolor='k')\n",
    "plt.scatter(Xu[:,0], Xu[:,1], c='black',s=20, alpha=0.5, label='Unlabelled data')\n",
    "plt.scatter(Xl[yl==-1, 0], Xl[yl==-1,1], c='b', label='Class -1')\n",
    "plt.scatter(Xl[yl==1, 0], Xl[yl==1,1], c='r', label='Class 1')\n",
    "plt.legend()\n",
    "plt.title('Only two labelled data')\n",
    "# Plot the separating plane, the margin and the Support Vectors\n",
    "XX, YY = np.meshgrid(np.arange(np.min(X[:,0]-1),np.max(X[:,0]+1),0.1), np.arange(np.min(X[:,1]-1),np.max(X[:,1]+1),0.1))\n",
    "ZZ = mySVC.decision_function(np.c_[XX.ravel(), YY.ravel()])\n",
    "ZZ = ZZ.reshape(XX.shape)\n",
    "plt.contour(XX, YY, ZZ, levels=[0],alpha=0.75)"
   ]
  },
  {
   "cell_type": "markdown",
   "metadata": {},
   "source": [
    "<div class=\"alert alert-warning\">\n",
    "    \n",
    "**Exercice 1:**<br>\n",
    "Que remarquez-vous ?\n",
    "</div>\n",
    "\n",
    "<div class=\"alert alert-danger\"><a href=\"#answer1\" data-toggle=\"collapse\">\n",
    "    \n",
    "**Cliquez pour voir un commentaire !**</a><br>\n",
    "<div id=\"answer1\" class=\"collapse\">\n",
    "Le résultat est conforme à nos attentes. Avec seulement deux points labellisés, la frontière de séparation des deux hyperplans est optimisée pour maximiser la distance entre ces deux points, et ne prend donc pas en compte toutes les autres données. Dans cet exemple, beaucoup de points de la classe $-1$ appartiennent à l'hyperplan de la classe $1$. Dans ce cas de figure, <b>la SVM n'est pas suffisante pour résoudre le problème</b>. \n",
    "    \n",
    "Ce cas de figure est typique du cas semi-supervisé, où nous ne pouvons pas avoir un nombre de données labéllisées satisfaisant.\n",
    "</div>\n",
    "</div>"
   ]
  },
  {
   "cell_type": "markdown",
   "metadata": {},
   "source": [
    "\n",
    "\n",
    "<div class=\"alert alert-warning\">\n",
    "    \n",
    "**Exercice 2:**<br>\n",
    "En voyant ce graphique, qu'auriez vous envie de faire pour obtenir un résultat plus intéressant? Comment pourriez-vous y parvenir ? (avec les mains)\n",
    "</div>\n",
    "\n",
    "<div class=\"alert alert-danger\"><a href=\"#answer2\" data-toggle=\"collapse\">\n",
    "    \n",
    "**Cliquez pour voir une solution !**</a><br>\n",
    "<div id=\"answer2\" class=\"collapse\">\n",
    "En voyant ce résultat, nous voudrions prendre en compte les données non labélisées dans l'optimisation. En effet, même si nous ne connaissons pas leur label, les données semblent clusterisées et l'information sur les clusters peut permettre d'aider la SVM dans l'optimisation géométrique. \n",
    "<br />\n",
    "    <br />\n",
    "Pour faire cela, deux principales méthodes peuvent être envisagées. \n",
    "   <ul>\n",
    "       <li>La première méthode possible (qui sera approfondie dans la suite) est une méthode d'analyse globale nommée hypothèse de cluster (<i>Cluster assumption</i>). Cette hypothèse se base sur le fait que des données dans le même cluster auront une plus grande probabilité d'appartenir à la même classe. Cette méthode reflète donc un caractère global des classes. Compte tenu de l'exemple précedent, elle semble raisonnable puisque les classes devraient partager des features similaires. Une manière de réaliser cette hypothèse va être d'attribuer un label fictif aux données non labéllisées et de les ajouter dans la formulation du problème d'optimisation.</li><br />\n",
    "           <li>La deuxième méthode, de plus en plus développée dans la recherche contemporaine, se base sur une analyse des features de manière locale et se nomme <b>Manifold assumption</b>. Un manifold est le mot anglais pour une variété.  Une variété est un espace topologique qui est localement euclidien (chaque point appartient localement à un plan). En pratique, cette hypothèse est utile dans le cas de données de grandes dimensions (beaucoup de features). Des points proches dans les variétés auront plus de chances d'appartenir à la même classe. Une explication plus poussée de cette thématique se trouve sur le lien suivant: <a href=\"https://stats.stackexchange.com/questions/66939/what-is-the-manifold-assumption-in-semi-supervised-learning\">Manifold Machine Learning</a>  \n",
    "    </ul>\n",
    "    <br/><br/>\n",
    "    Dans la suite de ce notebook, nous allons suivre l'hypothèse de cluster pour implémenter une méthode de S3VM. Nous nous intéresserons plus particulièrement au cas de l'induction.\n",
    "</div>\n",
    "</div>\n"
   ]
  },
  {
   "cell_type": "markdown",
   "metadata": {},
   "source": [
    "## <a id=\"sec2-2\"></a><font color=\"red\">&nbsp;&nbsp;&nbsp;&nbsp;2) Utilisation les données non labéllisées </font> <font color='green'>(10 min)</font>"
   ]
  },
  {
   "cell_type": "markdown",
   "metadata": {},
   "source": [
    "Comme nous venons de voir dans le petit exercice précédent, il nous faut prendre en compte l'information des données non-labélisées. Nous utiliserons encore l'exemple précédent pour pouvoir comparer les différentes approches.\n",
    "\n",
    "Comme suggéré dans la solution de l'exercice 2, nous allons faire l'hypothèse que les données non labélisées sont labellisées en leur attribuant un label fictif. Pour attribuer ce label fictif, rappelons nous de la manière utilisée pour la prédiction d'une nouvelle donnée avec l'algorithme SVM. Il suffit de calculer $w.x + w_0$ et d'en étudier le signe. Ainsi, il semble naturel d'attribuer le label des données non labellisées ($-1$ ou $1$) comme étant: \n",
    "\n",
    "$$\\hat y   = {sign}(w.x+w_0)$$\n",
    "\n",
    "Avec ceci, nous pouvons alors en déduire la fonction de loss des données non classifiées en nous basant sur la Hinge Loss comme précédemment:\n",
    "\n",
    "$$\\mathcal{L}_{hu} (\\hat y_i, w(x_i)) = \\max(1-\\hat y_i(w.x_i+w_0),0)$$\n",
    "\n",
    "Cette expression peut être réecrite afin d'enlever le facteur $\\hat y$ avec une manipulation simple, sur laquelle nous vous laissons réflechir:\n",
    "\n",
    "<div class=\"alert alert-warning\">\n",
    "    \n",
    "**Exercice 3:**<br>\n",
    "Comment peut-on enlever le facteur $\\hat y$ dans l'expression de la Hinge Loss (avec une manipulation simple) ?\n",
    "</div>\n",
    "\n",
    "<div class=\"alert alert-danger\"><a href=\"#answer3\" data-toggle=\"collapse\">\n",
    "    \n",
    "**Cliquez pour voir la réponse !**</a><br>\n",
    "<div id=\"answer3\" class=\"collapse\">\n",
    "    On a: $$ \\boxed{\\max(1-\\hat y_i(w.x_i+w_0),0) = \\max(1-|w.x_i+w_0|,0)}$$\n",
    "    où $|.|$ est la valeur absolue. En effet:<ul><li> si $\\hat y_i = 1$, alors $w.x+w_0$ est positif et $\\hat y_i (w.x +w_0)$ est positif.</li><li> Si $\\hat y_i = -1$, alors $w.x+w_0$ est négatif et $\\hat y_i (w.x +w_0)$ est positif.</li></ul>. Ces résultats prouvent l'assertion ci-dessus.\n",
    "</div>\n",
    "</div>\n",
    "\n",
    "\n",
    "La fonction loss finalement obtenue se nomme l'Effective Hinge Loss, et sa représentation est la suivante:"
   ]
  },
  {
   "cell_type": "code",
   "execution_count": 51,
   "metadata": {},
   "outputs": [
    {
     "data": {
      "text/plain": [
       "<matplotlib.legend.Legend at 0x19ef6a40508>"
      ]
     },
     "execution_count": 51,
     "metadata": {},
     "output_type": "execute_result"
    },
    {
     "data": {
      "image/png": "[encoded data removed]",
      "text/plain": [
       "<Figure size 216x216 with 1 Axes>"
      ]
     },
     "metadata": {
      "needs_background": "light"
     },
     "output_type": "display_data"
    }
   ],
   "source": [
    "def effective_hinge_loss(y, t):\n",
    "    loss = max([0, 1-np.abs(t)])\n",
    "    return loss\n",
    "\n",
    "t2 = np.linspace(-3,3,60)\n",
    "y = 1\n",
    "plt.figure(figsize=(3,3))\n",
    "plt.plot(t2, [effective_hinge_loss(y, t) for t in t2], label='Effective Hinge loss')\n",
    "\n",
    "plt.xlabel('t')\n",
    "plt.legend()"
   ]
  },
  {
   "cell_type": "markdown",
   "metadata": {},
   "source": [
    "On constate alors que cette fonction <b>n'est pas convexe et non différentiable partout</b>.\n",
    "\n",
    "Pour obtenir la forme générale des SVMs semi-supervisées sous la forme de risque régularisé, il suffit alors de sommer le terme de régularisation, la fonction loss des données labellisées, et la fonction loss des données non labellisées:\n",
    "\n",
    "$$\\min(\\phi(w)) = \\min_{w, w_0}\\{\\frac{1}{2} \\| w\\|^2 + C_1 \\sum^l_i \\mathcal{L}_h (y_i, w(x_i)) + C_2 \\sum^{l+u}_{i=l+1} \\mathcal{L}_{hu} (w(x_i)) \\}$$ où $u$ est le nombre de données non labellisées, et $C_1$ et $C_2$ deux paramètres permettant de donner plus ou moins de poids aux données labellisées ou non. On considère de plus ici que $x$ contient les features de toutes les données, et qu'elles sont rangées dans l'ordre labellisé puis non labellisé. \n",
    "\n",
    "Afin d'éviter que les données non labellisées ne soit toutes divisées dans la même et unique classe (solution triviale de l'algorithme d'optimisation), il convient cependant d'y ajouter la contrainte suivante: $\\frac{1}{u} \\sum^{l+u}_{j=l+1} g(x_j)= \\frac{1}{l} \\sum^l_{i=1} y_i$ où $g$ est telle que $g(x,w) = w.x+ w_0$, qui vérifie $f(x) = {sign}~g(x,w) $ où $f$ est la fonction de décision (remplacez $x$ par $\\Phi (x)$ dans le cadre d'utilisation de kernels). Dans le cadre où on saurait estimer le nombre de données qui appartient à chaque classe, on peut également fournir cette contrainte avec une proportion.\n",
    "\n",
    "Le problème d'optimisation final de l'algorithme de S3VM est donc le suivant:\n",
    "\n",
    "\\begin{equation*}\\boxed{\n",
    "\\begin{array}{c}\n",
    "\\min \\limits_{w,w_0}\\{\\frac{1}{2} \\| w\\|^2 + C_1 \\sum^l_i \\max(1-y_i(w.x_i+w_0),0) + C_2 \\sum^{l+u}_{i=l+1} \\max(1-|w.x_i+w_0|,0) \\}\\\\\n",
    "\\text{ such that } \\frac{1}{u} \\sum^{l+u}_{j=l+1} g(x_j)= \\frac{1}{l} \\sum^l_{i=1} y_i\n",
    "\\end{array}}\n",
    "\\end{equation*}\n",
    "\n",
    "\n",
    "Essayons alors d'effectuer cette optimisation et observons les résultats. Pour faciliter l'implémentation, nous allons travailler avec les variables $X_l$, $y_l$ et $X_u$."
   ]
  },
  {
   "cell_type": "code",
   "execution_count": 84,
   "metadata": {},
   "outputs": [],
   "source": [
    "# Définition des paramètres de poids\n",
    "C = 1\n",
    "C1 = C\n",
    "C2 = C"
   ]
  },
  {
   "cell_type": "code",
   "execution_count": 89,
   "metadata": {},
   "outputs": [],
   "source": [
    "def funcS3VM(w):\n",
    "    \"\"\"w=(w_0,w_1,w_2)\"\"\"\n",
    "    reg = .5*(w[1]**2 + w[2]**2)\n",
    "    lossLab = C1*sum([max([1-yl[i]*(w[1]*Xl[i][0]+w[2]*Xl[i][1]+w[0]), 0]) for i in range(Xl.shape[0])])\n",
    "    lossUnLab = C2*sum([max([1-np.abs(w[1]*Xu[i][0]+w[2]*Xu[i][1]+w[0]), 0]) for i in range(Xu.shape[0])])\n",
    "    \n",
    "    return reg+lossLab+lossUnLab\n",
    "\n",
    "def g(w, x):\n",
    "    return(w[1]*x[0]+w[2]*x[1]+w[0])\n",
    "\n",
    "def f(w, x):\n",
    "    return(np.sign(w[1]*x[0]+w[2]*x[1]+w[0]))\n",
    "\n",
    "def eq_constrS3VM(w):\n",
    "    \"\"\"w=(w_0,w_1,w_2)\"\"\"\n",
    "    return 1/Xu.shape[0]*sum([g(w, Xu[i]) for i in range(Xu.shape[0])])-1/Xl.shape[0]*sum(yl)\n"
   ]
  },
  {
   "cell_type": "markdown",
   "metadata": {},
   "source": [
    "Lançons maintenant notre algorithme d'optimisation de type Sequential Least Square Quadratic Programming:"
   ]
  },
  {
   "cell_type": "code",
   "execution_count": 90,
   "metadata": {},
   "outputs": [
    {
     "name": "stdout",
     "output_type": "stream",
     "text": [
      "Optimization terminated successfully.    (Exit mode 0)\n",
      "            Current function value: 19.08521361192325\n",
      "            Iterations: 27\n",
      "            Function evaluations: 171\n",
      "            Gradient evaluations: 27\n",
      "[-2.11244367  2.64508031 -3.19156152]\n"
     ]
    },
    {
     "data": {
      "text/plain": [
       "[<matplotlib.lines.Line2D at 0x19e81d3c5c8>]"
      ]
     },
     "execution_count": 90,
     "metadata": {},
     "output_type": "execute_result"
    },
    {
     "data": {
      "image/png": "[encoded data removed]",
      "text/plain": [
       "<Figure size 480x480 with 1 Axes>"
      ]
     },
     "metadata": {},
     "output_type": "display_data"
    }
   ],
   "source": [
    "from scipy.optimize import minimize\n",
    "x0 = np.array([0.4,0.7,-1.])\n",
    "res = sopt.fmin_slsqp(funcS3VM, x0, f_eqcons=eq_constrS3VM)\n",
    "print(res)\n",
    "\n",
    "fig=plt.figure(figsize=(6,6), dpi= 80, facecolor='w', edgecolor='k')\n",
    "plt.scatter(Xu[:,0], Xu[:,1], c='black',s=20, alpha=0.5, label='Unlabelled data')\n",
    "plt.scatter(Xl[yl==-1, 0], Xl[yl==-1,1], c='b', label='Class -1')\n",
    "plt.scatter(Xl[yl==1, 0], Xl[yl==1,1], c='r', label='Class 1')\n",
    "plt.legend()\n",
    "plt.title('Only two labelled data')\n",
    "XX = np.arange(min([np.min(X[:,0]-1),np.max(X[:,0]+1)]), max([np.min(X[:,1]-1),np.max(X[:,1]+1)]),0.1)\n",
    "YY = -(res[1]*XX+res[0])/res[2]\n",
    "plt.plot(XX,YY,c='g')"
   ]
  },
  {
   "cell_type": "markdown",
   "metadata": {},
   "source": [
    "<div class=\"alert alert-danger\">Cela marche t-il si bien que ca?</div>"
   ]
  },
  {
   "cell_type": "markdown",
   "metadata": {},
   "source": [
    "L'optimisation n'est cependant pas bonne.\n",
    "\n",
    "Il y a une explication à cette erreur. L'algorithme de SVM est un problème <a href=\"https://fr.wikipedia.org/wiki/Optimisation_convexe\">d'optimisation convexe</a>. Ces problèmes étudiant la minimisation d'une fonction objectif convexe, sont en général plus simples à analyser et à résoudre que leurs analogues non-convexes. Or, l'introduction du terme de loss des données non labellisées rend la fonction objectif du problème d'optimisation <b>non-convexe</b> et <b>non-différentiable</b>. La méthode de Sequential Least Square Quadratic Programming ne peut alors plus fonctionner convenablement. Il faut alors s'interesser à des techniques d'optimisation non convexes et rendre la fonction objectif différentiable afin de résoudre le problème."
   ]
  },
  {
   "cell_type": "markdown",
   "metadata": {},
   "source": [
    "## <a id=\"sec2-3\"></a><font color=\"red\">&nbsp;&nbsp;&nbsp;&nbsp;3) Résolution du problème non convexe</font> <font color=\"green\">(15 min)</font>"
   ]
  },
  {
   "cell_type": "markdown",
   "metadata": {},
   "source": [
    "Différentes méthodes ont été proposées pour pallier à ce problème. Nous allons dans un premier temps nous intéresser à une méthode proposée par Gieseke en 2013, utilisant une méthode d'optimisation par descente de gradient. Dans une future partie, nous passerons en revue les autres méthodes disponibles pour résoudre ce problème."
   ]
  },
  {
   "cell_type": "markdown",
   "metadata": {},
   "source": [
    "### <a id=\"sec2-3-1\"></a><font color=\"green\">&nbsp;&nbsp;&nbsp;&nbsp;&nbsp;&nbsp;&nbsp;&nbsp;&nbsp;&nbsp;&nbsp;&nbsp; 1) Optimisation par descente de gradient</font>"
   ]
  },
  {
   "cell_type": "markdown",
   "metadata": {},
   "source": [
    "La méthode qui va être expliquée dans ce paragraphe est une méthode d'optimisation par descente de gradient proposée par Fabian Gieseke et al en 2013 dans l'article: <a href=\"https://doi.org/10.1016/j.neucom.2012.12.056\">Fast and Simple Gradient-Based Optimization for Semi-Supervised Support Vector Machines</a>. \n",
    "\n",
    "Cette méthode permet d'enlever le problème principal de la forme régularisée de S3VM: sa non-différentiabilité. Pour expliquer cela, revenons à la forme régularisée du problème d'optimisation:\n",
    "\n",
    "$$\\min(\\phi(w)) = \\min_{w, w_0}\\{\\frac{1}{2} \\| w\\|^2 + C_1 \\sum^l_i \\mathcal{L}_h (y_i, g(x_i)) + C_2 \\sum^{l+u}_{i=l+1} \\mathcal{L}_{hu} (g(x_i)) \\}$$\n",
    "\n",
    "Comme nous l'avons vu, la fonction de loss des données non labellisées n'est pas différentiable. La méthode retenue pour les auteurs est alors d'approcher ces fonctions par des fonctions différentiables, nommées <i>differentiable surrogates</i>. Ainsi, la fonction de Hinge Loss est remplacée par une fonction nommée <i>modified logistic loss</i> qui suit la loi suivante: \n",
    "\n",
    "$$\\mathcal{L}^1(y, g(x_i)) = \\frac{1}{\\gamma} \\log(1+\\exp(\\gamma(1-y_i g(x_i)))) $$ où $\\gamma$ permet de faire varier la forme de la fonction.\n",
    "\n",
    "De même la fonction de loss de la partie des données non labellisées est remplacée par une fonction de loss exponentielle de la forme:\n",
    "\n",
    "$$\\mathcal{L}^2(y, g(x_i)) = \\exp(-s g(x_i)^2)$$ avec $s=3$.\n",
    "\n",
    "Regardons à quoi ressemblent ces fonctions et comparons les à leurs fonctions de loss associées:"
   ]
  },
  {
   "cell_type": "markdown",
   "metadata": {},
   "source": [
    "<div class=\"alert alert-warning\">\n",
    "    \n",
    "**Exercice 4:**<br>\n",
    "    Recodez ces <i>differentiable surrogates</i> $\\mathcal{L}^1 (y, t)$ et $\\mathcal{L}^2 (y, t)$ et codez une visualisation de ces fonctions avec leur <i>loss functions</i> associées:\n",
    "</div>"
   ]
  },
  {
   "cell_type": "code",
   "execution_count": null,
   "metadata": {},
   "outputs": [],
   "source": [
    "def logistic_loss(y, t):\n",
    "    gamma = ...\n",
    "    loss = ...\n",
    "    return loss\n",
    "\n",
    "def exp_loss(y, t):\n",
    "    s = ...\n",
    "    loss = ...\n",
    "    return loss\n",
    "\n",
    "\n",
    "t1 = np.linspace(0, 2, 20)\n",
    "t2 = np.linspace(-3, 3, 60)\n",
    "y = 1\n",
    "\n",
    "f, axs = plt.subplots(1,2,figsize=(15,6))\n",
    "plt.subplot(1, 2, 1)\n",
    "plt.plot(...)\n",
    "plt.plot(...)\n",
    "\n",
    "plt.subplot(1, 2, 2)\n",
    "plt.plot(...)\n",
    "plt.plot(...)"
   ]
  },
  {
   "cell_type": "code",
   "execution_count": 91,
   "metadata": {},
   "outputs": [],
   "source": [
    "# %load solutions/ex4.py"
   ]
  },
  {
   "cell_type": "markdown",
   "metadata": {},
   "source": [
    "On remarque ainsi que les <i>differentiable surrogates</i> approximent plutôt bien leur function loss associée, tout en étant différentiables. La formulation finale du problème d'optimisation est alors la suivante: \n",
    "\n",
    "$$\\min(\\phi(w)) = \\min_{w, w_0}\\{\\frac{1}{2} \\| w\\|^2 + C_1 \\sum^l_i \\frac{1}{\\gamma} \\log(1+\\exp(\\gamma(1-y_i g(x_i)))) + C_2 \\sum^{l+u}_{i=l+1}  \\exp(-s g(x_i)^2) \\}$$\n",
    "\n",
    "A partir d'ici, un algorithme de quasi-Newton peut être utilisé pour résoudre le problème d'optimisation. En effet, les auteurs prouvent que cette fonction objectif est différentiable et en tirent une expression analytique (les détails à ce sujet peuvent se retrouver dans l'article original). Au final, la fonction objectif et son gradient peuvent être calculées en $\\mathcal{O} (n^2)$ où $n$ est le nombre de données totales (en effet, les prédictions se calculent également en $\\mathcal{O} (n^2)$).\n",
    "\n",
    "L'algorithme d'optimisation utilisé est un schéma classique quasi-Newton de type BFGS, avec comme point de départ initial la solution d'une SVM avec seulement les données labellisées. Pour rappel, ce type de schéma permet de résoudre les problèmes d'optimisation non-linéaires sans contraintes, en construisant à chaque pas de temps une approximation de la matrice hessienne de la fonction objectif. Plus d'informations sur les algorithmes BFGS peuvent être trouvées <a href=\"https://en.wikipedia.org/wiki/Broyden%E2%80%93Fletcher%E2%80%93Goldfarb%E2%80%93Shanno_algorithm\">ici</a>.\n",
    "\n",
    "Toutefois, comme précedemment, il nous faut ajouter la contrainte afin d'éviter que les données non labellisées ne soit toutes divisées dans la même et unique classe: $\\frac{1}{u} \\sum^{l+u}_{j=l+1} w.x_j  + w_0= \\frac{1}{l} \\sum^l_{i=1} y_i$. Cependant, nous sommes dans un contexte d'optimisation sans contraintes. L'astuce dans le cas d'un kernel linéaire consiste à implémenter cette contrainte par une manipulation simple:\n",
    "\n",
    "L'astuce est de centrer toutes les données $X$ afin d'obtenir une moyenne des données non labellisées nulles: $\\frac{1}{u} \\sum^{l+u}_{j=l+1} x_j = 0$ (et donc de même avec les données labellisées). On obtient alors en reprenant le calcul de la contrainte par linéarité du produit scalaire la formule suivante pour $w_0$: \n",
    "\n",
    "$$w_0 = \\frac{1}{l} \\sum^l_{i=1} y_i$$ \n",
    "\n",
    "Il suffit alors de centrer les données et de fixer le paramètre $w_0$ et d'effectuer l'optimisation seulement sur $w$. Dans le cadre d'un kernel non linéaire, la même astuce est utilisée, et les données sont centrées dans l'espace des features en utilisant les fonctions de mapping $\\Phi_i$. Ces calculs sont détaillés dans <a href=\"https://dl.acm.org/doi/10.1145/1143844.1143868\">l'article suivant</a> publié par Chapelle en 2006.\n",
    "\n",
    "L'algorithme final est alors le suivant:\n",
    "<ul> <li> Effectuer une première SVM sur les données labellisées afin d'obtenir le point de départ $x_0$.</li>\n",
    "<li>Centrer les données $X_u$ et $X_l$</li>\n",
    "<li>Calculer $w_0 = \\frac{1}{l} \\sum^l_{i=1} y_i$ </li>\n",
    "<li>Effectuer l'optimisation BFGS en minimisant la fonction objectif du problème centré en fonction de $w$</li>\n",
    "<li>Calculer une nouvelle prédiction avec $\\hat y = f(\\hat x)$ </li>\n",
    "</ul>"
   ]
  },
  {
   "cell_type": "code",
   "execution_count": 53,
   "metadata": {},
   "outputs": [],
   "source": [
    "# Obtention des moyennes pour le centrage des données\n",
    "meanU = [np.mean([Xu[i][0] for i in range(Xu.shape[0])]), np.mean([Xu[i][1] for i in range(Xu.shape[0])])]\n",
    "meanL = [np.mean([Xl[i][0] for i in range(Xl.shape[0])]), np.mean([Xl[i][1] for i in range(Xl.shape[0])])]\n",
    "meanX = [np.mean([X[i][0] for i in range(X.shape[0])]), np.mean([X[i][1] for i in range(X.shape[0])])]\n",
    "\n",
    "#Calcul de w0 pour respecter la contrainte de répartition des classes\n",
    "w0 = 1/Xl.shape[0]*sum(yl)"
   ]
  },
  {
   "cell_type": "code",
   "execution_count": 54,
   "metadata": {},
   "outputs": [],
   "source": [
    "#Définition de la fonction objectif\n",
    "def funcS3VM(w):\n",
    "    \"\"\"w=(w_0,w_1,w_2)\"\"\"\n",
    "    reg = .5*(w[0]**2 + w[1]**2)\n",
    "    lossLab = C1*sum([logistic_loss(yl[i], g(w, [Xl[i][0]-meanL[0], Xl[i][1]-meanL[1]])) for i in range(Xl.shape[0])])\n",
    "    lossUnLab = C2*sum([exp_loss(0, g(w, [Xu[i][0]-meanU[0], Xu[i][1]-meanU[1]])) for i in range(Xu.shape[0])])\n",
    "    return reg+lossLab+lossUnLab\n",
    "\n",
    "\n",
    "def g(w, x):\n",
    "    return(w[0]*x[0]+w[1]*x[1]+w0)\n",
    "\n",
    "#Redéfinition de la fonction de décision avec w0 fixé\n",
    "def f(w, x):\n",
    "    return(np.sign(w[0]*x[0]+w[1]*x[1]+w0))"
   ]
  },
  {
   "cell_type": "code",
   "execution_count": 55,
   "metadata": {},
   "outputs": [
    {
     "name": "stdout",
     "output_type": "stream",
     "text": [
      "Optimization terminated successfully.    (Exit mode 0)\n",
      "            Current function value: 0.26381929290107975\n",
      "            Iterations: 6\n",
      "            Function evaluations: 30\n",
      "            Gradient evaluations: 6\n",
      "      fun: 3.7020021367124576\n",
      " hess_inv: array([[ 0.03822573, -0.020071  ],\n",
      "       [-0.020071  ,  0.20700335]])\n",
      "      jac: array([ 1.78813934e-07, -5.96046448e-08])\n",
      "  message: 'Optimization terminated successfully.'\n",
      "     nfev: 64\n",
      "      nit: 11\n",
      "     njev: 16\n",
      "   status: 0\n",
      "  success: True\n",
      "        x: array([-0.07281957, -1.93053858])\n"
     ]
    },
    {
     "data": {
      "text/plain": [
       "[<matplotlib.lines.Line2D at 0x19ef6d5ebc8>]"
      ]
     },
     "execution_count": 55,
     "metadata": {},
     "output_type": "execute_result"
    },
    {
     "data": {
      "image/png": "[encoded data removed]",
      "text/plain": [
       "<Figure size 480x480 with 1 Axes>"
      ]
     },
     "metadata": {},
     "output_type": "display_data"
    }
   ],
   "source": [
    "from scipy.optimize import minimize\n",
    "\n",
    "# Algorithme SVM sur les données labellisées seulement\n",
    "x0 = np.array([0.4,0.7,-1.])\n",
    "res = sopt.fmin_slsqp(funcSVMlabelled, x0, f_ieqcons=ineq_constrSVMlabelled)\n",
    "\n",
    "# Définition de C1 et C2\n",
    "C1 = 1\n",
    "C2 = 1\n",
    "\n",
    "# Définition du point de départ comme solution de la SVM (sans w_0)\n",
    "x0 = [res[1], res[2]]\n",
    "\n",
    "#Algorithme BFGS\n",
    "res = minimize(funcS3VM, x0, method='BFGS')\n",
    "print(res)\n",
    "\n",
    "\n",
    "fig=plt.figure(figsize=(6,6), dpi= 80, facecolor='w', edgecolor='k')\n",
    "plt.scatter(Xu[:,0]-meanU[0], Xu[:,1]-meanU[1], c='black',s=20, alpha=0.5, label='Unlabelled data')\n",
    "plt.scatter(Xl[yl==-1, 0]-meanL[0], Xl[yl==-1,1]-meanL[1], c='b', label='Class -1')\n",
    "plt.scatter(Xl[yl==1, 0]-meanL[0], Xl[yl==1,1]-meanL[1], c='r', label='Class 1')\n",
    "plt.legend()\n",
    "plt.title('Première implémentation d''un algorithme de type S3VM')\n",
    "XX = np.arange(min([np.min(X[:,0]-meanX[0]-1),np.max(X[:,0]-meanX[0]+1)]), max([np.min(X[:,1]-meanX[1]-1),np.max(X[:,1]-meanX[1]+1)]),0.1)\n",
    "YY = -(res.x[0]*XX+w0)/res.x[1]\n",
    "plt.plot(XX,YY,c='g')\n",
    "\n"
   ]
  },
  {
   "cell_type": "markdown",
   "metadata": {},
   "source": [
    "Nous avons codé notre premier algorithme S3VM qui permet de prendre en compte les données non labellisées ! On remarque tout de suite une grande différence par rapport à la résolution à l'aide d'une SVM classique. Les deux clusters sont bien pris en compte dans l'optimisation, et le résultat semble satisfaisant par rapport aux labels réels des données. \n",
    "\n",
    "Nous allons dorénavant utiliser une bibliothèque python basée sur cet algorithme (réalisée par l'auteur de cet article Fabian Gieseke) afin de pouvoir appliquer la S3VM sur des cas d'application concrets. En effet, cette bibliothèque ajoute quelques fonctionnalités intéressantes permettant de réduire le temps de calcul, d'utiliser des matrices sparses et l'utilisation de kernels. En effet, les auteurs utilisent réellement un algorithme de type L-BFGS (Limited memory Quasi Newton), qui permet de réduire les couts de mémoire et de temps de calcul (en calculant les matrices hessiennes sur seulement les $m$ précédentes itérations de l'algorithme). Cet implémentation permet de réduire le temps d'une itération en $\\mathcal{O} (mn)$ au lieu de $\\mathcal{O}(n^2)$ et le problème devient ainsi quasi-linéaire."
   ]
  },
  {
   "cell_type": "markdown",
   "metadata": {},
   "source": [
    "## <a id=\"sec2-4\"></a><font color=\"red\">&nbsp;&nbsp;&nbsp;&nbsp;4) Bibliothèque de S3VM quasi-Newton</font> <font color=\"green\"> (10 min)"
   ]
  },
  {
   "cell_type": "markdown",
   "metadata": {},
   "source": [
    "La bibliothèque que nous allons vous présenter maintenant, nommée qns3vm (pour Quasi Newton S3VM) a été codée par Fabian Gieseke, l'auteur de l'article sur les S3VM quasi-Newton détaillé dans la partie suivante. Vous pouvez trouver son site web sur <a href=\"http://www.fabiangieseke.de/index.php/code/qns3vm\">ce lien</a>. Cette bibliothèque est codée en Python et utilise numpy, scipy, et scikit-learn. Initialement codée en 2012 pour une version Python 2.7.2 (disponible sur son site), la version que vous pourrez trouver dans le répertoire dans le dossier qns3vm a été modifiée par moi même afin de la rendre utilisable sur une version Python 3. \n",
    "\n",
    "<div class=\"alert alert-success\"> Vous pouvez réutiliser cette bibliothèque en suivant les exemples suivants qui vous permettront de la prendre en main. En effet, l'auteur autorise l'utilisation de sa bibliothèque pour un usage scientifique (naturellement en citant Fabian Gieseke et l'article en question). En fonction de votre version de Python, choisissez la version modifiée (qui a été vérifiée avec les cas d'exemples donnés par l'auteur) ou la version originale. </div>\n",
    "\n",
    "Pour commencer, importez en utilisant les lignes de commande suivantes. Bien entendu, vous devrez avoir le dossier qns3vm dans votre répertoire de travail. Vous pouvez également importer la librairie d'exemples qui vous permettra de tester que votre librairie marche bien. Afin de pouvoir l'utiliser avec Python 3, vous devrez charger la librairie warnings et filtrer les warnings de type <i>PendingDeprecationWarning</i>. Cependant, cela veut sans doute dire que cette librairie ne sera pas fonctionnelle avec les futures versions de Python et qu'elle necessitera quelques modifications. Vous pouvez également créer un générateur de nombre aléatoire personnalisé."
   ]
  },
  {
   "cell_type": "code",
   "execution_count": 57,
   "metadata": {},
   "outputs": [],
   "source": [
    "from qns3vm.lib.qns3vm import QN_S3VM\n",
    "from qns3vm.lib.examples import *\n",
    "import warnings\n",
    "\n",
    "warnings.filterwarnings('ignore', category=PendingDeprecationWarning)\n",
    "\n",
    "my_random_generator = Random()\n",
    "my_random_generator.seed(0)"
   ]
  },
  {
   "cell_type": "markdown",
   "metadata": {},
   "source": [
    "Regardons alors l'aide de la classe QN_S3VM qui permet la création d'une instance d'algorithme d'optimisation S3VM:"
   ]
  },
  {
   "cell_type": "code",
   "execution_count": 58,
   "metadata": {},
   "outputs": [
    {
     "name": "stdout",
     "output_type": "stream",
     "text": [
      "Help on class QN_S3VM in module qns3vm.lib.qns3vm:\n",
      "\n",
      "class QN_S3VM(builtins.object)\n",
      " |  QN_S3VM(X_l, L_l, X_u, random_generator=None, **kw)\n",
      " |  \n",
      " |  L-BFGS optimizer for semi-supervised support vector machines (S3VM).\n",
      " |  \n",
      " |  Methods defined here:\n",
      " |  \n",
      " |  __init__(self, X_l, L_l, X_u, random_generator=None, **kw)\n",
      " |      Initializes the model. Detects automatically if dense or sparse data is provided.\n",
      " |      \n",
      " |      Keyword arguments:\n",
      " |      X_l -- patterns of labeled part of the data\n",
      " |      L_l -- labels of labeled part of the data\n",
      " |      X_u -- patterns of unlabeled part of the data\n",
      " |      random_generator -- particular instance of a random_generator (default None)\n",
      " |      kw -- additional parameters for the optimizer\n",
      " |      lam -- regularization parameter lambda (default 1, must be a float > 0)\n",
      " |      lamU -- cost parameter that determines influence of unlabeled patterns (default 1, must be float > 0)\n",
      " |      sigma -- kernel width for RBF kernel (default 1.0, must be a float > 0)\n",
      " |      kernel_type -- \"Linear\" or \"RBF\" (default \"Linear\")\n",
      " |      numR -- implementation of subset of regressors. If None is provided, all patterns are used\n",
      " |              (no approximation). Must fulfill 0 <= numR <= len(X_l) + len(X_u) (default None)\n",
      " |      estimate_r -- desired ratio for positive and negative assigments for \n",
      " |                    unlabeled patterns (-1.0 <= estimate_r <= 1.0). If estimate_r=None, \n",
      " |                    then L_l is used to estimate this ratio (in case len(L_l) >= \n",
      " |                    minimum_labeled_patterns_for_estimate_r. Otherwise use estimate_r = 0.0\n",
      " |                    (default None)\n",
      " |      minimum_labeled_patterns_for_estimate_r -- see above (default 0)\n",
      " |      BFGS_m -- BFGS parameter (default 50)\n",
      " |      BFGS_maxfun -- BFGS parameter, maximum number of function calls (default 500)\n",
      " |      BFGS_factr -- BFGS parameter (default 1E12)\n",
      " |      BFGS_pgtol -- BFGS parameter (default 1.0000000000000001e-05)\n",
      " |  \n",
      " |  getNeededFunctionCalls(self)\n",
      " |      Returns the number of function calls needed during \n",
      " |      the optimization process.\n",
      " |  \n",
      " |  getPredictions(self, X, real_valued=False)\n",
      " |      Computes the predicted labels for a given set of patterns\n",
      " |      \n",
      " |      Keyword arguments:\n",
      " |      X -- The set of patterns \n",
      " |      real_valued -- If True, then the real prediction values are returned\n",
      " |      \n",
      " |      Returns:\n",
      " |      The predictions for the list X of patterns.\n",
      " |  \n",
      " |  predict(self, x)\n",
      " |      Predicts a label (-1 or +1) for the pattern\n",
      " |      \n",
      " |      Keyword arguments:\n",
      " |      x -- The pattern \n",
      " |      \n",
      " |      Returns:\n",
      " |      The prediction for x.\n",
      " |  \n",
      " |  predictValue(self, x)\n",
      " |      Computes f(x) for a given pattern (see Representer Theorem)\n",
      " |      \n",
      " |      Keyword arguments:\n",
      " |      x -- The pattern \n",
      " |      \n",
      " |      Returns:\n",
      " |      The (real) prediction value for x.\n",
      " |  \n",
      " |  train(self)\n",
      " |      Training phase.\n",
      " |      \n",
      " |      Returns:\n",
      " |      The computed partition for the unlabeled patterns.\n",
      " |  \n",
      " |  ----------------------------------------------------------------------\n",
      " |  Data descriptors defined here:\n",
      " |  \n",
      " |  __dict__\n",
      " |      dictionary for instance variables (if defined)\n",
      " |  \n",
      " |  __weakref__\n",
      " |      list of weak references to the object (if defined)\n",
      "\n"
     ]
    }
   ],
   "source": [
    "help(QN_S3VM)"
   ]
  },
  {
   "cell_type": "markdown",
   "metadata": {},
   "source": [
    "Cette classe comporte plusieurs paramètres et différentes fonctions pouvant être appelées par  l'utilisateur. Détaillons ces différents paramètres:\n",
    "<ul><li><b>X_l</b>: une liste comportant les données (features) labellisées. Attention, ce code ne marche pour le moment pas avec des array numpy. Il peut cependant marcher pour des matrices sparses de type <a href=\"https://docs.scipy.org/doc/scipy/reference/generated/scipy.sparse.csc_matrix.html\">csc_matrix sous scipy</a></li>\n",
    "    <li><b>L_l</b>: une liste comportant les labels des données labellisées ($y_l$ dans notre exemple)</li>\n",
    "    <li><b>X_u</b>: une liste comportant les données non labellisées</li>\n",
    "    <li><b>lam</b>: Paramètre de régularisation des données labellisées. </li>\n",
    "    <li><b>lamU</b>: Paramètre de régularisation des données non labellisées. Permet d'agir sur l'influence des données non labellisées.</li>\n",
    "    <li><b>kernel_type</b>: 'RBF' ou 'Linear'</li>\n",
    "    <li><b>sigma</b>: Bande passante du kernel RBF dans le cadre d'une utilisation d'un kernel de ce type. Si vous êtes plus familiers avec l'utilisation de $\\gamma$, on a $\\sigma = \\frac{1}{\\sqrt{2*\\gamma}}$ </li>\n",
    "    <li><b>numR</b>: Paramètre permettant l'implémentation de la méthode <i>subset of regressors method</i>. Il décrit alors le nombre de données utilisées pour le calcul du kernel. Cette méthode permet d'approximer le kernel sur un plus petit ensemble afin de réduire le temps de calcul. Par défaut, cette méthode n'est pas utilisée, mais elle peut être utile pour de gros ensembles.</li>\n",
    "    <li><b>estimate_r</b>:</li>Ratio permettant de controler la proportion des données non labellisées dans chaque classe. Si il n'est pas renseigné, il est calculé à partir des données $y_l$ à partir de la contrainte comme vu dans la théorie.\n",
    "    <li><b>minimum_labeled_patterns_for_estimate_r</b>: Nombre minimum de données labellisées pour calculer le ratio précédent</li>\n",
    "    <li><b>BFGS_m, BFGS_maxfun, BFGS_factr, BFGS_pgtol</b>: Paramètres permettant de controler l'algorithme de BFGS</li>\n",
    "\n",
    "\n",
    "</ul>\n",
    "\n",
    "Les différentes méthodes de cette classe sont assez similaires aux méthodes classiques d'un modèle de Machine Learning:\n",
    "<ul><li><b>train(self)</b>: permet d'entrainer le modèle (les données d'entrainement sont spécifiées à la création du modèle)</li>\n",
    "    <li><b>getPredictions(self, X, real_valued=False)</b>: permet de réaliser les prédictions d'un ensemble de données X. Si vous voulez la valeur de la fonction de décision associée, spécifiez real_valued=True (utile pour tracer la frontière par exemple). </li>\n",
    "    <li><b>predict(self, x):</b> Renvoie la classe d'une prédiction x</li>\n",
    "    <li><b>predictValue(self, x): </b>Renvoie la valeur de la fonction de décision d'une prédiction</li></ul>\n",
    "\n",
    "\n",
    "Voyons maintenant comment utiliser la librairie en pratique. N'hésitez pas à vous référer à l'aide de la fonction pour ajouter des paramètres différents."
   ]
  },
  {
   "cell_type": "code",
   "execution_count": 59,
   "metadata": {},
   "outputs": [
    {
     "data": {
      "image/png": "[encoded data removed]",
      "text/plain": [
       "<Figure size 480x480 with 1 Axes>"
      ]
     },
     "metadata": {},
     "output_type": "display_data"
    }
   ],
   "source": [
    "def plotS3VM(model, X, Xu, Xl, yl):\n",
    "    minx = min(X[:,0])-1\n",
    "    maxx = max(X[:,0])+1\n",
    "    miny = min(X[:,1])-1\n",
    "    maxy = max(X[:,1])+1\n",
    "\n",
    "    XX, YY = np.meshgrid(np.arange(minx, maxx,0.1), np.arange(miny, maxy,0.1))\n",
    "    ZZ = model.getPredictions(np.c_[XX.ravel(), YY.ravel()], True)\n",
    "    ZZ = np.array(ZZ)\n",
    "    ZZ = ZZ.reshape(XX.shape)\n",
    "\n",
    "    fig=plt.figure(figsize=(6,6), dpi= 80, facecolor='w', edgecolor='k')\n",
    "    plt.scatter(Xu[:,0], Xu[:,1], c='black',s=20, alpha=0.5, label='Unlabelled data')\n",
    "    plt.scatter(Xl[yl==-1, 0], Xl[yl==-1,1], c='b', label='Class -1')\n",
    "    plt.scatter(Xl[yl==1, 0], Xl[yl==1,1], c='r', label='Class 1')\n",
    "    cont = plt.contour(XX, YY, ZZ, levels=[0], alpha=0.75)\n",
    "    plt.legend()\n",
    "    plt.title('S3VM using Quasi-Newton implementation')\n",
    "\n",
    "\n",
    "model = QN_S3VM(list(Xl), list(yl), list(Xu), my_random_generator, lam=1, lamU=1, kernel_type='Linear', sigma=1)\n",
    "model.train()\n",
    "plotS3VM(model, X, Xu, Xl, yl)"
   ]
  },
  {
   "cell_type": "markdown",
   "metadata": {},
   "source": [
    "<div class=\"alert alert-warning\">\n",
    "    \n",
    "**Exercice 5:**<br>\n",
    "    Jouez avec les différents paramètres disponibles (en particulier les paramètres de régularisations $\\lambda$ et $\\lambda_u$, et le type de kernel (ainsi que $\\sigma$ pour le kernel RBF).\n",
    "</div>\n",
    "\n",
    "<div class=\"alert alert-danger\"><a href=\"#answer5\" data-toggle=\"collapse\">\n",
    "    \n",
    "**Cliquez ici pour voir l'analyse de l'influence des paramètres sur l'optimisation !**</a><br>\n",
    "<div id=\"answer5\" class=\"collapse\">\n",
    "    On constate que plus $\\lambda$ est grand, plus on donne d'importance aux données labellisées par rapport aux données non labellisées. A l'inverse, augmenter $\\lambda_u$ par rapport à $\\lambda$ augmentera l'importance donnée aux données non labellisées.  L'utilisation d'un kernel RBF permet comme dans le cas d'une SVM simple à appliquer le cas non linéaire. Plus $\\sigma$ est grand, plus \"l'ouverture du kernel sera grande\" et plus il capturera de données.\n",
    "   \n",
    "</div>\n",
    "</div>"
   ]
  },
  {
   "cell_type": "markdown",
   "metadata": {},
   "source": [
    "Nous pouvons également lancer l'exemple fourni avec la bibliothèque sur des données plus réelles et vérifier que les valeurs en sortie sont cohérentes avec les valeurs fournies par l'auteur dans le fichier: readme.txt (les valeurs peuvent varier un peu avec le dataset d'entrainement)."
   ]
  },
  {
   "cell_type": "code",
   "execution_count": 60,
   "metadata": {},
   "outputs": [
    {
     "name": "stdout",
     "output_type": "stream",
     "text": [
      "\n",
      "Dense gaussian data set instance\n",
      "Number of labeled patterns:  25\n",
      "Number of unlabeled patterns:  225\n",
      "Number of test patterns:  250\n",
      "Time needed to compute the model:  0.22163891792297363  seconds\n",
      "Classification error of QN-S3VM:  0.04\n",
      "\n",
      "Sparse text data set instance\n",
      "Number of labeled patterns:  48\n",
      "Number of unlabeled patterns:  924\n",
      "Number of test patterns:  974\n",
      "Time needed to compute the model:  0.5397140979766846  seconds\n",
      "Classification error of QN-S3VM:  0.059548254620123205\n",
      "\n",
      "Dense moons data set instance\n",
      "Number of labeled patterns:  5\n",
      "Number of unlabeled patterns:  495\n",
      "Number of test patterns:  500\n",
      "Time needed to compute the model:  0.3300027847290039  seconds\n",
      "Classification error of QN-S3VM:  0.0\n"
     ]
    }
   ],
   "source": [
    "X_train_l, L_train_l, X_train_u, X_test, L_test = get_gaussian_data(my_random_generator)\n",
    "t_start = time.time()\n",
    "model = QN_S3VM(X_train_l, L_train_l, X_train_u, my_random_generator, lam=1, lamU=1)\n",
    "model.train()\n",
    "t_end = time.time()\n",
    "elapsed_time = t_end - t_start\n",
    "preds = model.getPredictions(X_test)\n",
    "error = classification_error(preds,L_test)\n",
    "print(\"Time needed to compute the model: \", elapsed_time, \" seconds\")\n",
    "print(\"Classification error of QN-S3VM: \", error)\n",
    "\n",
    "\n",
    "# sparse text data set\n",
    "X_train_l, L_train_l, X_train_u, X_test, L_test, kw = get_text_data(my_random_generator)\n",
    "t_start = time.time()\n",
    "model = QN_S3VM(X_train_l, L_train_l, X_train_u, my_random_generator, lam=0.00390625, lamU=1)\n",
    "model.train()\n",
    "t_end = time.time()\n",
    "elapsed_time = t_end - t_start\n",
    "preds = model.getPredictions(X_test)\n",
    "error = classification_error(preds,L_test)\n",
    "print(\"Time needed to compute the model: \", elapsed_time, \" seconds\")\n",
    "print(\"Classification error of QN-S3VM: \", error)\n",
    "\n",
    "\n",
    "    # dense moons data set\n",
    "X_train_l, L_train_l, X_train_u, X_test, L_test = get_moons_data(my_random_generator)\n",
    "t_start = time.time()\n",
    "    # the parameter estimate_r for the balance ratio has to be provided explicitly, since the estimation\n",
    "    # is bad due to only 5 labeled patterns in the training set.\n",
    "model = QN_S3VM(X_train_l, L_train_l, X_train_u, my_random_generator, lam=0.0009765625, lamU=1, \\\n",
    "                    kernel_type=\"RBF\", sigma=0.5,  estimate_r=0.0,)\n",
    "model.train()\n",
    "t_end = time.time()\n",
    "elapsed_time = t_end - t_start\n",
    "preds = model.getPredictions(X_test)\n",
    "error = classification_error(preds,L_test)\n",
    "print(\"Time needed to compute the model: \", elapsed_time, \" seconds\")\n",
    "print(\"Classification error of QN-S3VM: \", error)"
   ]
  },
  {
   "cell_type": "markdown",
   "metadata": {},
   "source": [
    "Nous rentrerons plus dans les détails avec l'utilisation de datasets réels dans la partie suivante d'application, mais nous pouvons d'ores et déjà voir que l'algorithme est très efficace sur des exemples de données réels contenant peu de données labellisées par rapport aux données non labellisées (respectivement 10%, $\\simeq$5% et $\\simeq$ 1%)."
   ]
  },
  {
   "cell_type": "markdown",
   "metadata": {},
   "source": [
    "# <a id=\"sec3\"></a>III) Application <font color=\"green\"> (20 min) </font>"
   ]
  },
  {
   "cell_type": "markdown",
   "metadata": {},
   "source": [
    "Nous allons désormais appliquer la méthode S3VM (de la biliothèque qns3vm) sur des datasets d'application réels. Nous commencerons par un dataset de classification binaire portant sur les cancers du sein avec $30$ features. Ensuite, nous verrons l'utilisation de l'algorithme sur un cas sparse avec la base de donnée Spam or Ham, bien connue par les étudiants de SDD."
   ]
  },
  {
   "cell_type": "markdown",
   "metadata": {},
   "source": [
    "## <a id=\"sec3-1\"></a><font color=\"red\">&nbsp;&nbsp;&nbsp;&nbsp;1) Breast Cancer Data</font> <font color=\"green\"> (10 min)</font>"
   ]
  },
  {
   "cell_type": "markdown",
   "metadata": {},
   "source": [
    "Le premier dataset provient de la bibliothèque datasets de Scikit-Learn. Regardons ses principales caractéristiques:"
   ]
  },
  {
   "cell_type": "code",
   "execution_count": 61,
   "metadata": {},
   "outputs": [
    {
     "name": "stdout",
     "output_type": "stream",
     "text": [
      ".. _breast_cancer_dataset:\n",
      "\n",
      "Breast cancer wisconsin (diagnostic) dataset\n",
      "--------------------------------------------\n",
      "\n",
      "**Data Set Characteristics:**\n",
      "\n",
      "    :Number of Instances: 569\n",
      "\n",
      "    :Number of Attributes: 30 numeric, predictive attributes and the class\n",
      "\n",
      "    :Attribute Information:\n",
      "        - radius (mean of distances from center to points on the perimeter)\n",
      "        - texture (standard deviation of gray-scale values)\n",
      "        - perimeter\n",
      "        - area\n",
      "        - smoothness (local variation in radius lengths)\n",
      "        - compactness (perimeter^2 / area - 1.0)\n",
      "        - concavity (severity of concave portions of the contour)\n",
      "        - concave points (number of concave portions of the contour)\n",
      "        - symmetry \n",
      "        - fractal dimension (\"coastline approximation\" - 1)\n",
      "\n",
      "        The mean, standard error, and \"worst\" or largest (mean of the three\n",
      "        largest values) of these features were computed for each image,\n",
      "        resulting in 30 features.  For instance, field 3 is Mean Radius, field\n",
      "        13 is Radius SE, field 23 is Worst Radius.\n",
      "\n",
      "        - class:\n",
      "                - WDBC-Malignant\n",
      "                - WDBC-Benign\n",
      "\n",
      "    :Summary Statistics:\n",
      "\n",
      "    ===================================== ====== ======\n",
      "                                           Min    Max\n",
      "    ===================================== ====== ======\n",
      "    radius (mean):                        6.981  28.11\n",
      "    texture (mean):                       9.71   39.28\n",
      "    perimeter (mean):                     43.79  188.5\n",
      "    area (mean):                          143.5  2501.0\n",
      "    smoothness (mean):                    0.053  0.163\n",
      "    compactness (mean):                   0.019  0.345\n",
      "    concavity (mean):                     0.0    0.427\n",
      "    concave points (mean):                0.0    0.201\n",
      "    symmetry (mean):                      0.106  0.304\n",
      "    fractal dimension (mean):             0.05   0.097\n",
      "    radius (standard error):              0.112  2.873\n",
      "    texture (standard error):             0.36   4.885\n",
      "    perimeter (standard error):           0.757  21.98\n",
      "    area (standard error):                6.802  542.2\n",
      "    smoothness (standard error):          0.002  0.031\n",
      "    compactness (standard error):         0.002  0.135\n",
      "    concavity (standard error):           0.0    0.396\n",
      "    concave points (standard error):      0.0    0.053\n",
      "    symmetry (standard error):            0.008  0.079\n",
      "    fractal dimension (standard error):   0.001  0.03\n",
      "    radius (worst):                       7.93   36.04\n",
      "    texture (worst):                      12.02  49.54\n",
      "    perimeter (worst):                    50.41  251.2\n",
      "    area (worst):                         185.2  4254.0\n",
      "    smoothness (worst):                   0.071  0.223\n",
      "    compactness (worst):                  0.027  1.058\n",
      "    concavity (worst):                    0.0    1.252\n",
      "    concave points (worst):               0.0    0.291\n",
      "    symmetry (worst):                     0.156  0.664\n",
      "    fractal dimension (worst):            0.055  0.208\n",
      "    ===================================== ====== ======\n",
      "\n",
      "    :Missing Attribute Values: None\n",
      "\n",
      "    :Class Distribution: 212 - Malignant, 357 - Benign\n",
      "\n",
      "    :Creator:  Dr. William H. Wolberg, W. Nick Street, Olvi L. Mangasarian\n",
      "\n",
      "    :Donor: Nick Street\n",
      "\n",
      "    :Date: November, 1995\n",
      "\n",
      "This is a copy of UCI ML Breast Cancer Wisconsin (Diagnostic) datasets.\n",
      "https://goo.gl/U2Uwz2\n",
      "\n",
      "Features are computed from a digitized image of a fine needle\n",
      "aspirate (FNA) of a breast mass.  They describe\n",
      "characteristics of the cell nuclei present in the image.\n",
      "\n",
      "Separating plane described above was obtained using\n",
      "Multisurface Method-Tree (MSM-T) [K. P. Bennett, \"Decision Tree\n",
      "Construction Via Linear Programming.\" Proceedings of the 4th\n",
      "Midwest Artificial Intelligence and Cognitive Science Society,\n",
      "pp. 97-101, 1992], a classification method which uses linear\n",
      "programming to construct a decision tree.  Relevant features\n",
      "were selected using an exhaustive search in the space of 1-4\n",
      "features and 1-3 separating planes.\n",
      "\n",
      "The actual linear program used to obtain the separating plane\n",
      "in the 3-dimensional space is that described in:\n",
      "[K. P. Bennett and O. L. Mangasarian: \"Robust Linear\n",
      "Programming Discrimination of Two Linearly Inseparable Sets\",\n",
      "Optimization Methods and Software 1, 1992, 23-34].\n",
      "\n",
      "This database is also available through the UW CS ftp server:\n",
      "\n",
      "ftp ftp.cs.wisc.edu\n",
      "cd math-prog/cpo-dataset/machine-learn/WDBC/\n",
      "\n",
      ".. topic:: References\n",
      "\n",
      "   - W.N. Street, W.H. Wolberg and O.L. Mangasarian. Nuclear feature extraction \n",
      "     for breast tumor diagnosis. IS&T/SPIE 1993 International Symposium on \n",
      "     Electronic Imaging: Science and Technology, volume 1905, pages 861-870,\n",
      "     San Jose, CA, 1993.\n",
      "   - O.L. Mangasarian, W.N. Street and W.H. Wolberg. Breast cancer diagnosis and \n",
      "     prognosis via linear programming. Operations Research, 43(4), pages 570-577, \n",
      "     July-August 1995.\n",
      "   - W.H. Wolberg, W.N. Street, and O.L. Mangasarian. Machine learning techniques\n",
      "     to diagnose breast cancer from fine-needle aspirates. Cancer Letters 77 (1994) \n",
      "     163-171.\n"
     ]
    }
   ],
   "source": [
    "from sklearn.datasets import load_breast_cancer\n",
    "\n",
    "breast = load_breast_cancer()\n",
    "print(breast.DESCR)"
   ]
  },
  {
   "cell_type": "markdown",
   "metadata": {},
   "source": [
    "Il contient $569$ données de $30$ features. Le label de chaque échantillon indique si le patient associé est atteint d'un cancer du sein. Dans notre étude, nous allons diviser ce dataset en training et testing test, afin de chercher à prédire si un patient i souffre d'un cancer du sein.\n",
    "\n",
    "<div class=\"alert alert-warning\">\n",
    "    \n",
    "Attention ! Pour utiliser la bibliothèque qns3vm, il faut manuellement spécifier les labels dans $\\{-1,1\\}$. En effet, à la différence du module de Scikit-Learn pour la SVM, l'algorithme ne l'effectue pas lui même.\n",
    "</div>\n",
    "\n",
    "Nous choisissons une proportion 50/50 pour le train et test set."
   ]
  },
  {
   "cell_type": "code",
   "execution_count": 62,
   "metadata": {},
   "outputs": [],
   "source": [
    "X = breast.data\n",
    "y = breast.target\n",
    "\n",
    "#Redéfinition des labels\n",
    "y = [yi if yi==1  else -1 for yi in y]\n",
    "\n",
    "X,y = shuffle(X,y)\n",
    "\n",
    "Xtrain,Xtest = np.split(X,[int(X.shape[0]/2)])\n",
    "ytrain,ytest = np.split(y,[int(len(y)/2)])\n",
    "\n",
    "Xtrain, ytrain = shuffle(Xtrain, ytrain)\n",
    "Xtest, ytest = shuffle(Xtest, ytest)"
   ]
  },
  {
   "cell_type": "markdown",
   "metadata": {},
   "source": [
    "A partir d'ici, nous allons diviser notre training set en une partie de données labellisées et une partie de donnees dont on ne connait pas la classe (working set). En effet, nous allons imaginer que le cout et le temps necessaire pour savoir si un patient souffre du cancer ou non est très élevé (à cause du coût et du nombre de scanners par exemples...). Ainsi, la solution peut être de n'investiguer qu'une partie des patients, et de ne simplement récolter les différentes features chez les autres.\n",
    "\n",
    "Nous définissons alors une fonction qui permet de séparer le training set en un certain pourcentage de données labellisées (dans le working set). Il faut cependant faire attention à respecter une certaine proportion de classes dans le working set, afin de ne pas le déséquilibrer. L'algorithme risquerait alors de mal classifier les données.\n",
    "\n",
    "La fonction suivante permet de découper ce dataset en fonction d'un certain pourcentage, tout en garantissant que chaque classe est bien présente dans le training set."
   ]
  },
  {
   "cell_type": "code",
   "execution_count": 63,
   "metadata": {},
   "outputs": [],
   "source": [
    "def getTrainingAndWorkingSet(Xtrain, ytrain, percentLabelled):\n",
    "    \n",
    "    if(int(Xtrain.shape[0]*percentLabelled)<=1):\n",
    "        print(\"The number of labelled data must be >1 with at least two classes\")\n",
    "        return\n",
    "    \n",
    "    numTry = 30 \n",
    "    i = 0\n",
    "    #To make sure we have at least two classes in y_l\n",
    "    numbClasses = 1\n",
    "    \n",
    "    while numbClasses <=1 and i<numTry:\n",
    "        Xtrain, ytrain = shuffle(Xtrain, ytrain)\n",
    "        X_l = Xtrain[:int(Xtrain.shape[0]*percentLabelled),:]\n",
    "        X_u = Xtrain[int(Xtrain.shape[0]*percentLabelled):,:]\n",
    "\n",
    "        y_l, y_u = np.split(ytrain, [int(ytrain.shape[0]*percentLabelled)])\n",
    "        if 1 in y_l and -1 in y_l: \n",
    "            numbClasses = 2\n",
    "        i+=1\n",
    "    return X_l, y_l, X_u, y_u\n",
    "    "
   ]
  },
  {
   "cell_type": "markdown",
   "metadata": {},
   "source": [
    "A titre de comparaison, imaginons que nous disposions de toutes les données labellisées suite à un investissement de recherche. Nous pouvons appliquer une SVM classique sur ce dataset et regarder les performances. "
   ]
  },
  {
   "cell_type": "code",
   "execution_count": 64,
   "metadata": {},
   "outputs": [
    {
     "name": "stdout",
     "output_type": "stream",
     "text": [
      "Generalization score: 0.9543859649122807\n"
     ]
    }
   ],
   "source": [
    "mySVC = svm.SVC(kernel='linear', C=1)\n",
    "mySVC.fit(Xtrain, ytrain)\n",
    "\n",
    "prediction = mySVC.predict(Xtest)\n",
    "\n",
    "print(\"Generalization score:\", mySVC.score(Xtest,ytest))"
   ]
  },
  {
   "cell_type": "markdown",
   "metadata": {},
   "source": [
    "Le score de généralisation est bon et atteint environ 95%. (cela peut varier selon le dataset d'entrainement et de test)."
   ]
  },
  {
   "cell_type": "markdown",
   "metadata": {},
   "source": [
    "Découpons maintenant ce dataset pour ne garder qu'une partie des données labelées"
   ]
  },
  {
   "cell_type": "code",
   "execution_count": 70,
   "metadata": {},
   "outputs": [
    {
     "name": "stdout",
     "output_type": "stream",
     "text": [
      "Il y a 5 données labellisées\n"
     ]
    }
   ],
   "source": [
    "percentLabelled = 2/100\n",
    "\n",
    "X_l, y_l, X_u, y_u = getTrainingAndWorkingSet(Xtrain, ytrain, percentLabelled)\n",
    "print(\"Il y a \"+str(X_l.shape[0])+\" données labellisées\")"
   ]
  },
  {
   "cell_type": "markdown",
   "metadata": {},
   "source": [
    "Imaginons alors que nous réalisions la SVM sur les seuls données que l'on a pu labelliser, avec une SVM classique:"
   ]
  },
  {
   "cell_type": "code",
   "execution_count": 71,
   "metadata": {},
   "outputs": [
    {
     "name": "stdout",
     "output_type": "stream",
     "text": [
      "Generalization error: 0.22807017543859648\n",
      "Generalization score: 0.7719298245614035\n"
     ]
    }
   ],
   "source": [
    "mySVC = svm.SVC(kernel='linear')\n",
    "mySVC.fit(X_l, y_l)\n",
    "\n",
    "prediction = mySVC.predict(Xtest)\n",
    "print(\"Generalization error:\", np.sum(np.not_equal(prediction,ytest))/len(ytest) )\n",
    "print(\"Generalization score:\", mySVC.score(Xtest,ytest))"
   ]
  },
  {
   "cell_type": "markdown",
   "metadata": {},
   "source": [
    "La performance de l'algorithme est dégradée, et va beaucoup dépendre de la composition du working set. Dans certains cas le score n'atteint pas plus de $40\\%$. Elle peut cependant s'averer intéressante dans certains cas.\n",
    "\n",
    "Voyons maintenant la solution où nous utilisons également les données non labellisées en utilisant une S3VM:"
   ]
  },
  {
   "cell_type": "code",
   "execution_count": 69,
   "metadata": {},
   "outputs": [
    {
     "name": "stdout",
     "output_type": "stream",
     "text": [
      "Generalization error: 0.09824561403508772\n",
      "Generalization score: 0.9017543859649123\n"
     ]
    }
   ],
   "source": [
    "model = QN_S3VM(list(X_l), list(y_l), list(X_u), my_random_generator, lam=1, lamU=1, kernel_type='Linear')\n",
    "model.train()\n",
    "predictions = model.getPredictions(Xtest)\n",
    "\n",
    "print(\"Generalization error:\", np.sum(np.not_equal(predictions,ytest))/len(ytest) )\n",
    "print(\"Generalization score:\", 1-np.sum(np.not_equal(predictions,ytest))/len(ytest) )\n"
   ]
  },
  {
   "cell_type": "markdown",
   "metadata": {},
   "source": [
    "Les performances atteintes avec S3VM en utilisant un kernel linéaire, $\\lambda = 1$ et $\\lambda_u = 1$. On arrive ainsi à obtenir un score de classification sur les données de test supérieur à celui d'une SVM classique sans les données non labellisées. Ici, les meilleures performances sont obtenues avec un kernel linéaire simple et des paramètres $\\lambda$ équivalents.\n",
    "\n",
    "Nous pouvons lancer l'étude pour voir la performance de ces deux algorithmes en moyenne:"
   ]
  },
  {
   "cell_type": "code",
   "execution_count": 72,
   "metadata": {},
   "outputs": [
    {
     "name": "stdout",
     "output_type": "stream",
     "text": [
      "************************************************** done!\n",
      "Average generalization score SVM: 0.8250526315789475\n",
      "Standard deviation SVM: 0.11255451262977943\n",
      "Average generalization score S3VM: 0.8751578947368421\n",
      "Standard deviation S3VM: 0.08959974607535579\n"
     ]
    },
    {
     "data": {
      "text/plain": [
       "<matplotlib.legend.Legend at 0x19ef6bd4708>"
      ]
     },
     "execution_count": 72,
     "metadata": {},
     "output_type": "execute_result"
    },
    {
     "data": {
      "image/png": "[encoded data removed]",
      "text/plain": [
       "<Figure size 432x288 with 1 Axes>"
      ]
     },
     "metadata": {
      "needs_background": "light"
     },
     "output_type": "display_data"
    }
   ],
   "source": [
    "nb_trials = 50\n",
    "percentLabelled = 2/100\n",
    "\n",
    "svmScore = []\n",
    "s3vmScore = []\n",
    "for i in range(nb_trials):\n",
    "    X_l, y_l, X_u, y_u = getTrainingAndWorkingSet(Xtrain, ytrain, percentLabelled)\n",
    "    \n",
    "    mySVC = svm.SVC(kernel='linear')\n",
    "    mySVC.fit(X_l, y_l)\n",
    "\n",
    "    prediction = mySVC.predict(Xtest)\n",
    "    svmScore.append(mySVC.score(Xtest,ytest))\n",
    "    \n",
    "    model = QN_S3VM(list(X_l), list(y_l), list(X_u), my_random_generator, lam=1, lamU=1, kernel_type='Linear')\n",
    "    model.train()\n",
    "    predictions = model.getPredictions(Xtest)\n",
    "    s3vmScore.append(1-np.sum(np.not_equal(predictions,ytest))/len(ytest))\n",
    "    print('*', end='')\n",
    "    \n",
    "print(\" done!\")\n",
    "\n",
    "print(\"Average generalization score SVM:\", np.mean(svmScore))\n",
    "print(\"Standard deviation SVM:\", np.std(svmScore))\n",
    "print(\"Average generalization score S3VM:\", np.mean(s3vmScore))\n",
    "print(\"Standard deviation S3VM:\", np.std(s3vmScore))\n",
    "\n",
    "\n",
    "plt.figure()\n",
    "plt.plot(svmScore, color='b', label='SVM')\n",
    "plt.plot(s3vmScore, color='r', label='S3VM')\n",
    "plt.xlabel('Iteration')\n",
    "plt.ylabel('Generalization score')\n",
    "plt.legend()"
   ]
  },
  {
   "cell_type": "markdown",
   "metadata": {},
   "source": [
    "En général, pour $2\\%$ de données labellisées, la S3VM permet d'obtenir en moyenne un score de $90\\%$, la ou la SVM obtient un score de $84\\%$. La S3VM permet donc d'obtenir une augmentation significative des résultats. Son score est quasiment toujours au dessus du score d'une SVM. "
   ]
  },
  {
   "cell_type": "markdown",
   "metadata": {},
   "source": [
    "<div class=\"alert alert-warning\">\n",
    "    \n",
    "**Exercice 6:**<br>\n",
    "    Effectuez la même analyse en changeant la taille du working set (ie en augmentant la proportion de données labellisées avec le paramètre percentLabelled. A partir de quel pourcentage l'algorithme de S3VM n'apporte plus réellement d'avantages?\n",
    "</div>\n",
    "\n",
    "<div class=\"alert alert-danger\"><a href=\"#answer6\" data-toggle=\"collapse\">\n",
    "    \n",
    "**Cliquez ici pour voir l'analyse de l'influence des paramètres sur l'optimisation !**</a><br>\n",
    "<div id=\"answer6\" class=\"collapse\">\n",
    "    \n",
    "   A partir d'environ 25% de données labellisées dans le working set, les performances de la SVM et de la S3VM sont similaires. Le domaine d'augmentation de performances de S3VM correspond donc bien au cas d'application de l'apprentissage semi-supervisé, où on dispose d'environ $10\\%$ de données labellisées.\n",
    "</div>\n",
    "</div>"
   ]
  },
  {
   "cell_type": "code",
   "execution_count": 74,
   "metadata": {},
   "outputs": [
    {
     "name": "stdout",
     "output_type": "stream",
     "text": [
      "Percent labelled: 0.02, ******************** done!\n",
      "Percent labelled: 0.06631578947368422, ******************** done!\n",
      "Percent labelled: 0.11263157894736843, ******************** done!\n",
      "Percent labelled: 0.15894736842105264, ******************** done!\n",
      "Percent labelled: 0.20526315789473684, ******************** done!\n",
      "Percent labelled: 0.25157894736842107, ******************** done!\n",
      "Percent labelled: 0.29789473684210527, ******************** done!\n",
      "Percent labelled: 0.34421052631578947, ******************** done!\n",
      "Percent labelled: 0.3905263157894737, ******************** done!\n",
      "Percent labelled: 0.4368421052631579, ******************** done!\n",
      "Percent labelled: 0.4831578947368421, ******************** done!\n",
      "Percent labelled: 0.5294736842105263, ******************** done!\n",
      "Percent labelled: 0.5757894736842105, ******************** done!\n",
      "Percent labelled: 0.6221052631578948, ******************** done!\n",
      "Percent labelled: 0.6684210526315789, ******************** done!\n",
      "Percent labelled: 0.7147368421052631, ******************** done!\n",
      "Percent labelled: 0.7610526315789474, ******************** done!\n",
      "Percent labelled: 0.8073684210526316, ******************** done!\n",
      "Percent labelled: 0.8536842105263159, ******************** done!\n",
      "Percent labelled: 0.9, ******************** done!\n"
     ]
    },
    {
     "data": {
      "text/plain": [
       "<matplotlib.legend.Legend at 0x19ef69c1148>"
      ]
     },
     "execution_count": 74,
     "metadata": {},
     "output_type": "execute_result"
    },
    {
     "data": {
      "image/png": "[encoded data removed]",
      "text/plain": [
       "<Figure size 432x288 with 1 Axes>"
      ]
     },
     "metadata": {
      "needs_background": "light"
     },
     "output_type": "display_data"
    }
   ],
   "source": [
    "# %load solutions/ex6.py\n",
    "# Ce code permet de tracer le score moyen de SVM et S3VM en fonction de la proportion de données labellisées. \n",
    "# Il prend environ trois petites minutes à tourner\n",
    "nb_trials = 20\n",
    "percentLabelleds = np.linspace(2,90,20)/100\n",
    "\n",
    "svmScorePer = []\n",
    "s3vmScorePer = []\n",
    "\n",
    "for per in percentLabelleds:\n",
    "    svmScore = []\n",
    "    s3vmScore = []\n",
    "    print(\"Percent labelled: \"+str(per)+\", \", end='')\n",
    "    for i in range(nb_trials):\n",
    "        X_l, y_l, X_u, y_u = getTrainingAndWorkingSet(Xtrain, ytrain, per)\n",
    "\n",
    "        mySVC = svm.SVC(kernel='linear')\n",
    "        mySVC.fit(X_l, y_l)\n",
    "\n",
    "        prediction = mySVC.predict(Xtest)\n",
    "        svmScore.append(mySVC.score(Xtest,ytest))\n",
    "\n",
    "        model = QN_S3VM(list(X_l), list(y_l), list(X_u), my_random_generator, lam=1, lamU=1, kernel_type='Linear')\n",
    "        model.train()\n",
    "        predictions = model.getPredictions(Xtest)\n",
    "        s3vmScore.append(1-np.sum(np.not_equal(predictions,ytest))/len(ytest))\n",
    "        print('*', end='')\n",
    "\n",
    "    print(\" done!\")\n",
    "    svmScorePer.append(np.mean(svmScore))\n",
    "    s3vmScorePer.append(np.mean(s3vmScore))\n",
    "\n",
    "\n",
    "plt.figure()\n",
    "plt.plot(percentLabelleds, svmScorePer, color='b', label='SVM')\n",
    "plt.plot(percentLabelleds, s3vmScorePer, color='r', label='S3VM')\n",
    "plt.xlabel('Percent data labelled')\n",
    "plt.ylabel('Score on the same dataset')\n",
    "plt.legend()"
   ]
  },
  {
   "cell_type": "markdown",
   "metadata": {},
   "source": [
    "La S3VM démontre ainsi ici toutes ses capacités, en obtenant un score très similaire à une SVM utilisant toutes les données labellisées. Dans ce contexte de recherche médicale, la difficulté d'obtenir certaines données peut réellement motiver à utiliser les algorithmes semi-supervisés, et en particulier de type S3VM."
   ]
  },
  {
   "cell_type": "markdown",
   "metadata": {},
   "source": [
    "## <a id=\"sec3-2\"></a><font color=\"red\">&nbsp;&nbsp;&nbsp;&nbsp;2) Spam or Ham</font> <font color=\"green\">(10 min)</font>"
   ]
  },
  {
   "cell_type": "markdown",
   "metadata": {},
   "source": [
    "Nous allons maintenant nous intéresser à un autre dataset, de taille beaucoup plus importante. \n",
    "\n",
    "Ce dataset contient une base de données de mails classifiés comme spam ou non. Pour plus d'informations sur ce dataset, réferez vous au notebook de Emmanuel Rachelson sur le préprocessing des données textes.\n",
    "\n",
    "La particularité de ce dataset est que la matrice de features est sparse (contenant plus de $14000$ features). Nous allons ainsi pouvoir effectuer un cas d'étude sur ce type de matrices, qui sont prises en compte par la bibliothèque qns3vm. Si vous faites face à un problème sparse, ces bouts de codes peuvent être réutilisés.\n",
    "\n",
    "Commencons par charger le dataset séparons en données de test et données d'entrainement:"
   ]
  },
  {
   "cell_type": "code",
   "execution_count": 75,
   "metadata": {},
   "outputs": [],
   "source": [
    "spam_data = load_spam.spam_data_loader()\n",
    "spam_data.load_data()\n",
    "\n",
    "\n",
    "Xtrain, ytrainb, Xtest, ytestb = spam_data.shuffle_and_split(2000)"
   ]
  },
  {
   "cell_type": "markdown",
   "metadata": {},
   "source": [
    "Convertissons les labels en $\\{-1, 1\\}$ afin de pouvoir utiliser qns3vm:"
   ]
  },
  {
   "cell_type": "code",
   "execution_count": 76,
   "metadata": {},
   "outputs": [],
   "source": [
    "def transformClasses(ytrainb, ytestb):\n",
    "    ytrain = np.array([1 if yi==True  else -1 for yi in ytrainb])\n",
    "    ytest = np.array([1 if yi==True  else -1 for yi in ytestb])\n",
    "    return ytrain, ytest\n",
    "\n",
    "ytrain,  ytest = transformClasses(ytrainb, ytestb)"
   ]
  },
  {
   "cell_type": "markdown",
   "metadata": {},
   "source": [
    "Définissons alors comme dans l'exemple précédent nos données labellisées:"
   ]
  },
  {
   "cell_type": "code",
   "execution_count": 77,
   "metadata": {},
   "outputs": [
    {
     "name": "stdout",
     "output_type": "stream",
     "text": [
      "Il y a 20 données labellisées sur 2000 données\n"
     ]
    }
   ],
   "source": [
    "percentLabelled = 1/100\n",
    "\n",
    "X_l, y_l, X_u, y_u = getTrainingAndWorkingSet(Xtrain, ytrain, percentLabelled)\n",
    "\n",
    "print(\"Il y a \"+str(X_l.shape[0])+\" données labellisées sur \"+str(Xtrain.shape[0])+\" données\")"
   ]
  },
  {
   "cell_type": "markdown",
   "metadata": {},
   "source": [
    "On va tout de suite réaliser l'étude en moyenne sur les trois cas de figure (SVM avec toutes les données, SVM avec les données labellisées et S3VM). Attention cependant, la bibliothèque ne marche qu'avec des matrices sparses de type csc (sparses par colonne) et il faut donc réaliser une conversion."
   ]
  },
  {
   "cell_type": "code",
   "execution_count": 78,
   "metadata": {},
   "outputs": [],
   "source": [
    "def csr_to_csc(Mcsr):\n",
    "    \"\"\"Permet de convertir une matrice csr en csc\"\"\"\n",
    "    return(csc_matrix(Mcsr.toarray()))"
   ]
  },
  {
   "cell_type": "code",
   "execution_count": 79,
   "metadata": {},
   "outputs": [
    {
     "name": "stdout",
     "output_type": "stream",
     "text": [
      "******************** done!\n",
      "Average generalization score SVM with all: 0.9907614781634939\n",
      "Standard deviation SVM with all: 0.0015787090906911293\n",
      "Average generalization score SVM with labelled: 0.8366741321388578\n",
      "Standard deviation SVM with labelled: 0.012263316341560386\n",
      "Average generalization score S3VM: 0.8343225083986562\n",
      "Standard deviation S3VM: 0.011127858530490926\n"
     ]
    },
    {
     "data": {
      "text/plain": [
       "<matplotlib.legend.Legend at 0x19e81ae7e48>"
      ]
     },
     "execution_count": 79,
     "metadata": {},
     "output_type": "execute_result"
    },
    {
     "data": {
      "image/png": "[encoded data removed]",
      "text/plain": [
       "<Figure size 432x288 with 1 Axes>"
      ]
     },
     "metadata": {
      "needs_background": "light"
     },
     "output_type": "display_data"
    }
   ],
   "source": [
    "# Compute cross-validation score\n",
    "nb_trials = 20\n",
    "scoreSVM = []\n",
    "scoreSVMl = []\n",
    "scoreS3VM = []\n",
    "\n",
    "for i in range(nb_trials):\n",
    "    Xtrain, ytrain, Xtest, ytest = spam_data.shuffle_and_split(2000)\n",
    "    ytrain,  ytest = transformClasses(ytrain, ytest)\n",
    "    \n",
    "    X_l, y_l, X_u, y_u = getTrainingAndWorkingSet(Xtrain, ytrain, percentLabelled)\n",
    "    \n",
    "    #SVM sur tout\n",
    "    spam_svc = svm.SVC(kernel='linear', C=1.)\n",
    "    spam_svc.fit(Xtrain,ytrain);\n",
    "    scoreSVM += [spam_svc.score(Xtest,ytest)]\n",
    "    \n",
    "    #SVM labels\n",
    "    spam_svc = svm.SVC(kernel='linear', C=1)\n",
    "    spam_svc.fit(X_l,y_l);\n",
    "    scoreSVMl += [spam_svc.score(Xtest,ytest)]\n",
    "    \n",
    "    #S3VM\n",
    "    ###################################### Modifiez la ligne ci-dessous pour l'exercice 7 #################################\n",
    "    model = QN_S3VM(csr_to_csc(X_l), y_l, csr_to_csc(X_u), my_random_generator, lam=1, lamU=1, kernel_type='Linear', sigma=1)    \n",
    "    model.train()\n",
    "    predictions = model.getPredictions(Xtest)\n",
    "    scoreS3VM += [1-np.sum(np.not_equal(predictions,ytest))/len(ytest)]\n",
    "    \n",
    "    print('*', end='')\n",
    "print(\" done!\")\n",
    "\n",
    "print(\"Average generalization score SVM with all:\", np.mean(scoreSVM))\n",
    "print(\"Standard deviation SVM with all:\", np.std(scoreSVM))\n",
    "print(\"Average generalization score SVM with labelled:\", np.mean(scoreSVMl))\n",
    "print(\"Standard deviation SVM with labelled:\", np.std(scoreSVMl))\n",
    "print(\"Average generalization score S3VM:\", np.mean(scoreS3VM))\n",
    "print(\"Standard deviation S3VM:\", np.std(scoreS3VM))\n",
    "\n",
    "\n",
    "plt.figure()\n",
    "plt.plot(scoreSVM, color='g', label='SVM with all')\n",
    "plt.plot(scoreSVMl, color='b', label='SVM with labelled')\n",
    "plt.plot(scoreS3VM, color='r', label='S3VM')\n",
    "plt.xlabel('Iteration')\n",
    "plt.ylabel('Generalization score')\n",
    "plt.legend()"
   ]
  },
  {
   "cell_type": "markdown",
   "metadata": {},
   "source": [
    "Dans cet exemple, on se rend compte que l'utilisation de S3VM n'apporte aucune amélioration par rapport à une SVM sur les seules données labellisées, et qu'elle s'avère même moins fiable en moyenne.\n",
    "\n",
    "Cependant, cette performance dépend peut-être des paramètres de l'algorithme, que nous allons chercher à optimiser."
   ]
  },
  {
   "cell_type": "markdown",
   "metadata": {},
   "source": [
    "Les fonctions suivantes permettent de réaliser un gridsearch sur des paramètres (sans optimisation), et ainsi d'obtenir les paramètres qui permettent d'avoir le meilleur score en moyenne. Il suffit pour cela de coder une fonction réalisant la prédiction et calculant le score de la prédiction (ici S3VMSpam), et de lancer la fonction gridSearchS3VM avec la grille des paramètres recherchés.\n",
    "\n",
    "<div class=\"alert alert-success\"> Vous pouvez réutiliser cette fonction en l'adaptant à vos besoins </div>"
   ]
  },
  {
   "cell_type": "code",
   "execution_count": 80,
   "metadata": {},
   "outputs": [],
   "source": [
    "def S3VMSpam(percentLabelled, nb_trials, lam, lamU, kernel_type, sigma):\n",
    "    \n",
    "    Xtrain, ytrain, Xtest, ytest = spam_data.shuffle_and_split(2000)\n",
    "    \n",
    "    ytrain,  ytest = transformClasses(ytrain, ytest)\n",
    "    X_l, y_l, X_u, y_u = getTrainingAndWorkingSet(Xtrain, ytrain, percentLabelled)\n",
    "\n",
    "    my_random_generator = Random()\n",
    "\n",
    "    model = QN_S3VM(csr_to_csc(X_l), y_l, csr_to_csc(X_u), my_random_generator, lam=lam, lamU=lamU, kernel_type=kernel_type, sigma=sigma)    \n",
    "    model.train()\n",
    "\n",
    "    predictions = model.getPredictions(Xtest)\n",
    "\n",
    "    score = 1-np.sum(np.not_equal(predictions,ytest))/len(ytest)\n",
    "    return(score)\n",
    "\n",
    "def gridSearchS3VM(lams, lamUs, kernel_types, sigmas, nb_trials, fun_score, verbose = False):\n",
    "    optLam = 0\n",
    "    optLamU = 0\n",
    "    optKernel = ''\n",
    "    optSigma = 0\n",
    "    optScore = 0\n",
    "    for lam in lams:\n",
    "        for lamU in lamUs:\n",
    "            for kernel_type in kernel_types:\n",
    "                if kernel_type == 'Linear':\n",
    "                    sigmass = [1]\n",
    "                else:\n",
    "                    sigmass = sigmas\n",
    "                \n",
    "                for sigma in sigmass:\n",
    "                    if verbose == True:\n",
    "                        print(\"Beginning optimization with lam=\"+str(lam)+\", lamU=\"+str(lamU)+\", sigma=\"+str(sigma)+\", kernel=\"+kernel_type)\n",
    "                \n",
    "                    score = []\n",
    "                    for i in range(nb_trials):\n",
    "                        score.append(fun_score(percentLabelled, nb_trials, lam, lamU, kernel_type, sigma))\n",
    "                        if verbose == True:\n",
    "                            print('*', end='')\n",
    "                    if verbose == True:\n",
    "                        print(\" done!\")\n",
    "                        print('Average generalization score:'+str(np.mean(score))+', Standard deviation: '+str(np.std(score)))\n",
    "                \n",
    "                    if np.mean(score)>optScore:\n",
    "                        optLam = lam\n",
    "                        optLamU = lamU\n",
    "                        optSigma = sigma\n",
    "                        optKernel = kernel_type\n",
    "                        optScore = np.mean(score)\n",
    "                        if verbose == True:\n",
    "                            print('New optimum')\n",
    "\n",
    "    print(\"Optimization finished\")\n",
    "    print('Lambda = '+str(optLam))\n",
    "    print('LambdaU = '+str(optLamU))\n",
    "    print('Sigma = '+str(optSigma))\n",
    "    print('Kernel = '+optKernel)\n",
    "    print('With a score of '+str(optScore))\n",
    "    \n",
    "    return optLam, optLamU, optSigma, optKernel, optScore"
   ]
  },
  {
   "cell_type": "markdown",
   "metadata": {},
   "source": [
    "<div class=\"alert alert-danger\">Attention ce code est plutot long a tourner (environ 5 minutes sur un bon ordinateur), ne le lancez pas et regardez simplement l'analyse des résultats</div>"
   ]
  },
  {
   "cell_type": "code",
   "execution_count": 362,
   "metadata": {},
   "outputs": [
    {
     "name": "stdout",
     "output_type": "stream",
     "text": [
      "Beginning optimization with lam=0.01, lamU=0.01, sigma=1, kernel=RBF\n",
      "***** done!\n",
      "Average generalization score:0.8683090705487123, Standard deviation: 0.03342697998979732\n",
      "New optimum\n",
      "Beginning optimization with lam=0.01, lamU=0.01, sigma=10, kernel=RBF\n",
      "***** done!\n",
      "Average generalization score:0.8602463605823069, Standard deviation: 0.03677652546491557\n",
      "Beginning optimization with lam=0.01, lamU=0.01, sigma=20, kernel=RBF\n",
      "***** done!\n",
      "Average generalization score:0.8362821948488243, Standard deviation: 0.003707266597367713\n",
      "Beginning optimization with lam=0.01, lamU=0.01, sigma=1, kernel=Linear\n",
      "***** done!\n",
      "Average generalization score:0.8427771556550953, Standard deviation: 0.006198590146964444\n",
      "Beginning optimization with lam=0.01, lamU=0.1, sigma=1, kernel=RBF\n",
      "***** done!\n",
      "Average generalization score:0.8423292273236281, Standard deviation: 0.010199594657769949\n",
      "Beginning optimization with lam=0.01, lamU=0.1, sigma=10, kernel=RBF\n",
      "***** done!\n",
      "Average generalization score:0.8441209406494959, Standard deviation: 0.016750962554369673\n",
      "Beginning optimization with lam=0.01, lamU=0.1, sigma=20, kernel=RBF\n",
      "***** done!\n",
      "Average generalization score:0.838969764837626, Standard deviation: 0.010442591916573122\n",
      "Beginning optimization with lam=0.01, lamU=0.1, sigma=1, kernel=Linear\n",
      "***** done!\n",
      "Average generalization score:0.8559910414333707, Standard deviation: 0.03498862214324754\n",
      "Beginning optimization with lam=0.01, lamU=1, sigma=1, kernel=RBF\n",
      "***** done!\n",
      "Average generalization score:0.8622620380739082, Standard deviation: 0.051764315867173984\n",
      "Beginning optimization with lam=0.01, lamU=1, sigma=10, kernel=RBF\n",
      "***** done!\n",
      "Average generalization score:0.8741321388577828, Standard deviation: 0.045457553811846275\n",
      "New optimum\n",
      "Beginning optimization with lam=0.01, lamU=1, sigma=20, kernel=RBF\n",
      "***** done!\n",
      "Average generalization score:0.8750279955207168, Standard deviation: 0.0371375540034475\n",
      "New optimum\n",
      "Beginning optimization with lam=0.01, lamU=1, sigma=1, kernel=Linear\n",
      "***** done!\n",
      "Average generalization score:0.8550951847704367, Standard deviation: 0.04656946952160392\n",
      "Beginning optimization with lam=0.01, lamU=10, sigma=1, kernel=RBF\n",
      "***** done!\n",
      "Average generalization score:0.8936170212765957, Standard deviation: 0.07436824466770033\n",
      "New optimum\n",
      "Beginning optimization with lam=0.01, lamU=10, sigma=10, kernel=RBF\n",
      "***** done!\n",
      "Average generalization score:0.9072788353863382, Standard deviation: 0.06915163366169984\n",
      "New optimum\n",
      "Beginning optimization with lam=0.01, lamU=10, sigma=20, kernel=RBF\n",
      "***** done!\n",
      "Average generalization score:0.9166853303471445, Standard deviation: 0.07564420780694117\n",
      "New optimum\n",
      "Beginning optimization with lam=0.01, lamU=10, sigma=1, kernel=Linear\n",
      "***** done!\n",
      "Average generalization score:0.8665173572228444, Standard deviation: 0.05638561974841042\n",
      "Beginning optimization with lam=0.01, lamU=100, sigma=1, kernel=RBF\n",
      "***** done!\n",
      "Average generalization score:0.8589025755879061, Standard deviation: 0.05888596753841444\n",
      "Beginning optimization with lam=0.01, lamU=100, sigma=10, kernel=RBF\n",
      "***** done!\n",
      "Average generalization score:0.8633818589025756, Standard deviation: 0.049032298388328344\n",
      "Beginning optimization with lam=0.01, lamU=100, sigma=20, kernel=RBF\n",
      "***** done!\n",
      "Average generalization score:0.9337066069428891, Standard deviation: 0.055407485313728674\n",
      "New optimum\n",
      "Beginning optimization with lam=0.01, lamU=100, sigma=1, kernel=Linear\n",
      "***** done!\n",
      "Average generalization score:0.9014557670772678, Standard deviation: 0.06247757291216037\n",
      "Beginning optimization with lam=0.1, lamU=0.01, sigma=1, kernel=RBF\n",
      "***** done!\n",
      "Average generalization score:0.8391937290033594, Standard deviation: 0.009385140801682875\n",
      "Beginning optimization with lam=0.1, lamU=0.01, sigma=10, kernel=RBF\n",
      "***** done!\n",
      "Average generalization score:0.8369540873460245, Standard deviation: 0.009411825930325054\n",
      "Beginning optimization with lam=0.1, lamU=0.01, sigma=20, kernel=RBF\n",
      "***** done!\n",
      "Average generalization score:0.8374020156774916, Standard deviation: 0.01346395374261064\n",
      "Beginning optimization with lam=0.1, lamU=0.01, sigma=1, kernel=Linear\n",
      "***** done!\n",
      "Average generalization score:0.825979843225084, Standard deviation: 0.009141469935927684\n",
      "Beginning optimization with lam=0.1, lamU=0.1, sigma=1, kernel=RBF\n",
      "***** done!\n",
      "Average generalization score:0.8376259798432251, Standard deviation: 0.009736647309869716\n",
      "Beginning optimization with lam=0.1, lamU=0.1, sigma=10, kernel=RBF\n",
      "***** done!\n",
      "Average generalization score:0.844120940649496, Standard deviation: 0.012048356243057322\n",
      "Beginning optimization with lam=0.1, lamU=0.1, sigma=20, kernel=RBF\n",
      "***** done!\n",
      "Average generalization score:0.8277715565509519, Standard deviation: 0.01601617843563821\n",
      "Beginning optimization with lam=0.1, lamU=0.1, sigma=1, kernel=Linear\n",
      "***** done!\n",
      "Average generalization score:0.832026875699888, Standard deviation: 0.009813618051604321\n",
      "Beginning optimization with lam=0.1, lamU=1, sigma=1, kernel=RBF\n",
      "***** done!\n",
      "Average generalization score:0.8349384098544232, Standard deviation: 0.007905649538509623\n",
      "Beginning optimization with lam=0.1, lamU=1, sigma=10, kernel=RBF\n",
      "***** done!\n",
      "Average generalization score:0.8353863381858903, Standard deviation: 0.008930527228388338\n",
      "Beginning optimization with lam=0.1, lamU=1, sigma=20, kernel=RBF\n",
      "***** done!\n",
      "Average generalization score:0.8367301231802913, Standard deviation: 0.010224154275935792\n",
      "Beginning optimization with lam=0.1, lamU=1, sigma=1, kernel=Linear\n",
      "***** done!\n",
      "Average generalization score:0.8295632698768196, Standard deviation: 0.009591316060633305\n",
      "Beginning optimization with lam=0.1, lamU=10, sigma=1, kernel=RBF\n",
      "***** done!\n",
      "Average generalization score:0.836730123180291, Standard deviation: 0.00859859073704479\n",
      "Beginning optimization with lam=0.1, lamU=10, sigma=10, kernel=RBF\n",
      "***** done!\n",
      "Average generalization score:0.8618141097424411, Standard deviation: 0.05790069302948967\n",
      "Beginning optimization with lam=0.1, lamU=10, sigma=20, kernel=RBF\n",
      "***** done!\n",
      "Average generalization score:0.8380739081746921, Standard deviation: 0.007032617454919396\n",
      "Beginning optimization with lam=0.1, lamU=10, sigma=1, kernel=Linear\n",
      "***** done!\n",
      "Average generalization score:0.825979843225084, Standard deviation: 0.005280997143360149\n",
      "Beginning optimization with lam=0.1, lamU=100, sigma=1, kernel=RBF\n",
      "***** done!\n",
      "Average generalization score:0.8291153415453527, Standard deviation: 0.009141469935927677\n",
      "Beginning optimization with lam=0.1, lamU=100, sigma=10, kernel=RBF\n",
      "***** done!\n",
      "Average generalization score:0.7802911534154535, Standard deviation: 0.12644240078741772\n",
      "Beginning optimization with lam=0.1, lamU=100, sigma=20, kernel=RBF\n",
      "***** done!\n",
      "Average generalization score:0.773124300111982, Standard deviation: 0.11943948274328559\n",
      "Beginning optimization with lam=0.1, lamU=100, sigma=1, kernel=Linear\n",
      "***** done!\n",
      "Average generalization score:0.7802911534154535, Standard deviation: 0.11531740688284173\n",
      "Beginning optimization with lam=1, lamU=0.01, sigma=1, kernel=RBF\n",
      "***** done!\n",
      "Average generalization score:0.8311310190369541, Standard deviation: 0.007407765020623182\n",
      "Beginning optimization with lam=1, lamU=0.01, sigma=10, kernel=RBF\n",
      "***** done!\n",
      "Average generalization score:0.832474804031355, Standard deviation: 0.0033669196816064647\n",
      "Beginning optimization with lam=1, lamU=0.01, sigma=20, kernel=RBF\n",
      "***** done!\n",
      "Average generalization score:0.8297872340425533, Standard deviation: 0.005393771367880071\n",
      "Beginning optimization with lam=1, lamU=0.01, sigma=1, kernel=Linear\n",
      "***** done!\n",
      "Average generalization score:0.8432250839865623, Standard deviation: 0.0147033796749562\n",
      "Beginning optimization with lam=1, lamU=0.1, sigma=1, kernel=RBF\n",
      "***** done!\n",
      "Average generalization score:0.8369540873460245, Standard deviation: 0.005950875814372416\n",
      "Beginning optimization with lam=1, lamU=0.1, sigma=10, kernel=RBF\n",
      "***** done!\n",
      "Average generalization score:0.8438969764837626, Standard deviation: 0.005603581636370354\n",
      "Beginning optimization with lam=1, lamU=0.1, sigma=20, kernel=RBF\n",
      "***** done!\n",
      "Average generalization score:0.8403135498320269, Standard deviation: 0.016663897189463196\n",
      "Beginning optimization with lam=1, lamU=0.1, sigma=1, kernel=Linear\n",
      "***** done!\n",
      "Average generalization score:0.8311310190369541, Standard deviation: 0.013849607913765126\n",
      "Beginning optimization with lam=1, lamU=1, sigma=1, kernel=RBF\n"
     ]
    },
    {
     "name": "stdout",
     "output_type": "stream",
     "text": [
      "***** done!\n",
      "Average generalization score:0.8374020156774916, Standard deviation: 0.015571550544921575\n",
      "Beginning optimization with lam=1, lamU=1, sigma=10, kernel=RBF\n",
      "***** done!\n",
      "Average generalization score:0.8329227323628221, Standard deviation: 0.0023912829231873137\n",
      "Beginning optimization with lam=1, lamU=1, sigma=20, kernel=RBF\n",
      "***** done!\n",
      "Average generalization score:0.8286674132138858, Standard deviation: 0.009965776242457779\n",
      "Beginning optimization with lam=1, lamU=1, sigma=1, kernel=Linear\n",
      "***** done!\n",
      "Average generalization score:0.8365061590145576, Standard deviation: 0.010214337514885912\n",
      "Beginning optimization with lam=1, lamU=10, sigma=1, kernel=RBF\n",
      "***** done!\n",
      "Average generalization score:0.8212765957446809, Standard deviation: 0.010916960902086374\n",
      "Beginning optimization with lam=1, lamU=10, sigma=10, kernel=RBF\n",
      "***** done!\n",
      "Average generalization score:0.8338185890257559, Standard deviation: 0.01121163808356894\n",
      "Beginning optimization with lam=1, lamU=10, sigma=20, kernel=RBF\n",
      "***** done!\n",
      "Average generalization score:0.8335946248600223, Standard deviation: 0.009385140801682889\n",
      "Beginning optimization with lam=1, lamU=10, sigma=1, kernel=Linear\n",
      "***** done!\n",
      "Average generalization score:0.8304591265397537, Standard deviation: 0.01169341767722878\n",
      "Beginning optimization with lam=1, lamU=100, sigma=1, kernel=RBF\n",
      "***** done!\n",
      "Average generalization score:0.8443449048152296, Standard deviation: 0.012689106807807661\n",
      "Beginning optimization with lam=1, lamU=100, sigma=10, kernel=RBF\n",
      "***** done!\n",
      "Average generalization score:0.8331466965285556, Standard deviation: 0.013806078394107456\n",
      "Beginning optimization with lam=1, lamU=100, sigma=20, kernel=RBF\n",
      "***** done!\n",
      "Average generalization score:0.8344904815229561, Standard deviation: 0.005077618834828511\n",
      "Beginning optimization with lam=1, lamU=100, sigma=1, kernel=Linear\n",
      "***** done!\n",
      "Average generalization score:0.8311310190369541, Standard deviation: 0.00891366125067523\n",
      "Beginning optimization with lam=10, lamU=0.01, sigma=1, kernel=RBF\n",
      "***** done!\n",
      "Average generalization score:0.8295632698768196, Standard deviation: 0.014434833634331026\n",
      "Beginning optimization with lam=10, lamU=0.01, sigma=10, kernel=RBF\n",
      "***** done!\n",
      "Average generalization score:0.825531914893617, Standard deviation: 0.010150297149943692\n",
      "Beginning optimization with lam=10, lamU=0.01, sigma=20, kernel=RBF\n",
      "***** done!\n",
      "Average generalization score:0.8331466965285553, Standard deviation: 0.010994793020052462\n",
      "Beginning optimization with lam=10, lamU=0.01, sigma=1, kernel=Linear\n",
      "***** done!\n",
      "Average generalization score:0.8396416573348265, Standard deviation: 0.006428981005333631\n",
      "Beginning optimization with lam=10, lamU=0.1, sigma=1, kernel=RBF\n",
      "***** done!\n",
      "Average generalization score:0.8394176931690931, Standard deviation: 0.006960927331655109\n",
      "Beginning optimization with lam=10, lamU=0.1, sigma=10, kernel=RBF\n",
      "***** done!\n",
      "Average generalization score:0.8284434490481523, Standard deviation: 0.007930988223796578\n",
      "Beginning optimization with lam=10, lamU=0.1, sigma=20, kernel=RBF\n",
      "***** done!\n",
      "Average generalization score:0.833370660694289, Standard deviation: 0.0039049486616266065\n",
      "Beginning optimization with lam=10, lamU=0.1, sigma=1, kernel=Linear\n",
      "***** done!\n",
      "Average generalization score:0.8389697648376261, Standard deviation: 0.012931870130572941\n",
      "Beginning optimization with lam=10, lamU=1, sigma=1, kernel=RBF\n",
      "***** done!\n",
      "Average generalization score:0.8331466965285556, Standard deviation: 0.015709453900784053\n",
      "Beginning optimization with lam=10, lamU=1, sigma=10, kernel=RBF\n",
      "***** done!\n",
      "Average generalization score:0.8430011198208287, Standard deviation: 0.009643471508000413\n",
      "Beginning optimization with lam=10, lamU=1, sigma=20, kernel=RBF\n",
      "***** done!\n",
      "Average generalization score:0.8378499440089586, Standard deviation: 0.012775776660203075\n",
      "Beginning optimization with lam=10, lamU=1, sigma=1, kernel=Linear\n",
      "***** done!\n",
      "Average generalization score:0.8250839865621499, Standard deviation: 0.006108927971774183\n",
      "Beginning optimization with lam=10, lamU=10, sigma=1, kernel=RBF\n",
      "***** done!\n",
      "Average generalization score:0.8371780515117582, Standard deviation: 0.006075995505599358\n",
      "Beginning optimization with lam=10, lamU=10, sigma=10, kernel=RBF\n",
      "***** done!\n",
      "Average generalization score:0.833370660694289, Standard deviation: 0.011094706451512532\n",
      "Beginning optimization with lam=10, lamU=10, sigma=20, kernel=RBF\n",
      "***** done!\n",
      "Average generalization score:0.8329227323628221, Standard deviation: 0.006310863517852359\n",
      "Beginning optimization with lam=10, lamU=10, sigma=1, kernel=Linear\n",
      "***** done!\n",
      "Average generalization score:0.8349384098544232, Standard deviation: 0.010005960987094569\n",
      "Beginning optimization with lam=10, lamU=100, sigma=1, kernel=RBF\n",
      "***** done!\n",
      "Average generalization score:0.825979843225084, Standard deviation: 0.013185385020860056\n",
      "Beginning optimization with lam=10, lamU=100, sigma=10, kernel=RBF\n",
      "***** done!\n",
      "Average generalization score:0.8443449048152296, Standard deviation: 0.010994793020052487\n",
      "Beginning optimization with lam=10, lamU=100, sigma=20, kernel=RBF\n",
      "***** done!\n",
      "Average generalization score:0.8300111982082866, Standard deviation: 0.005126774083878867\n",
      "Beginning optimization with lam=10, lamU=100, sigma=1, kernel=Linear\n",
      "***** done!\n",
      "Average generalization score:0.8288913773796193, Standard deviation: 0.008087556589145702\n",
      "Beginning optimization with lam=100, lamU=0.01, sigma=1, kernel=RBF\n",
      "***** done!\n",
      "Average generalization score:0.8387458006718924, Standard deviation: 0.007394210086996244\n",
      "Beginning optimization with lam=100, lamU=0.01, sigma=10, kernel=RBF\n",
      "***** done!\n",
      "Average generalization score:0.8365061590145577, Standard deviation: 0.0107175687471493\n",
      "Beginning optimization with lam=100, lamU=0.01, sigma=20, kernel=RBF\n",
      "***** done!\n",
      "Average generalization score:0.8326987681970885, Standard deviation: 0.009331541615229434\n",
      "Beginning optimization with lam=100, lamU=0.01, sigma=1, kernel=Linear\n",
      "***** done!\n",
      "Average generalization score:0.8331466965285553, Standard deviation: 0.007627944620795701\n",
      "Beginning optimization with lam=100, lamU=0.1, sigma=1, kernel=RBF\n",
      "***** done!\n",
      "Average generalization score:0.8300111982082867, Standard deviation: 0.010958235003561058\n",
      "Beginning optimization with lam=100, lamU=0.1, sigma=10, kernel=RBF\n",
      "***** done!\n",
      "Average generalization score:0.8232922732362822, Standard deviation: 0.012736454385767442\n",
      "Beginning optimization with lam=100, lamU=0.1, sigma=20, kernel=RBF\n",
      "***** done!\n",
      "Average generalization score:0.8338185890257558, Standard deviation: 0.011166809283151556\n",
      "Beginning optimization with lam=100, lamU=0.1, sigma=1, kernel=Linear\n",
      "***** done!\n",
      "Average generalization score:0.8358342665173571, Standard deviation: 0.00784194463606345\n",
      "Beginning optimization with lam=100, lamU=1, sigma=1, kernel=RBF\n",
      "***** done!\n",
      "Average generalization score:0.8340425531914895, Standard deviation: 0.01162458165497064\n",
      "Beginning optimization with lam=100, lamU=1, sigma=10, kernel=RBF\n",
      "***** done!\n",
      "Average generalization score:0.8335946248600223, Standard deviation: 0.010155237669656982\n",
      "Beginning optimization with lam=100, lamU=1, sigma=20, kernel=RBF\n",
      "***** done!\n",
      "Average generalization score:0.8414333706606942, Standard deviation: 0.01219731135873691\n",
      "Beginning optimization with lam=100, lamU=1, sigma=1, kernel=Linear\n",
      "***** done!\n",
      "Average generalization score:0.833370660694289, Standard deviation: 0.016047466174846894\n",
      "Beginning optimization with lam=100, lamU=10, sigma=1, kernel=RBF\n",
      "***** done!\n",
      "Average generalization score:0.8309070548712206, Standard deviation: 0.010528698117395879\n",
      "Beginning optimization with lam=100, lamU=10, sigma=10, kernel=RBF\n",
      "***** done!\n",
      "Average generalization score:0.8304591265397537, Standard deviation: 0.005779837805403798\n",
      "Beginning optimization with lam=100, lamU=10, sigma=20, kernel=RBF\n",
      "***** done!\n",
      "Average generalization score:0.8405375139977604, Standard deviation: 0.00866252165993898\n",
      "Beginning optimization with lam=100, lamU=10, sigma=1, kernel=Linear\n",
      "***** done!\n",
      "Average generalization score:0.8344904815229564, Standard deviation: 0.006270996640537517\n",
      "Beginning optimization with lam=100, lamU=100, sigma=1, kernel=RBF\n",
      "***** done!\n",
      "Average generalization score:0.8358342665173571, Standard deviation: 0.014139927541020917\n",
      "Beginning optimization with lam=100, lamU=100, sigma=10, kernel=RBF\n"
     ]
    },
    {
     "name": "stdout",
     "output_type": "stream",
     "text": [
      "***** done!\n",
      "Average generalization score:0.838969764837626, Standard deviation: 0.011072078024016387\n",
      "Beginning optimization with lam=100, lamU=100, sigma=20, kernel=RBF\n",
      "***** done!\n",
      "Average generalization score:0.8371780515117582, Standard deviation: 0.00954413247599662\n",
      "Beginning optimization with lam=100, lamU=100, sigma=1, kernel=Linear\n",
      "***** done!\n",
      "Average generalization score:0.8378499440089586, Standard deviation: 0.007201762683455098\n",
      "Optimization finished\n",
      "Lambda = 0.01\n",
      "LambdaU = 100\n",
      "Sigma = 20\n",
      "Kernel = RBF\n",
      "With a score of 0.9337066069428891\n"
     ]
    },
    {
     "data": {
      "text/plain": [
       "(0.01, 100, 20, 'RBF', 0.9337066069428891)"
      ]
     },
     "execution_count": 362,
     "metadata": {},
     "output_type": "execute_result"
    }
   ],
   "source": [
    "lams = [0.01, 0.1, 1, 10, 100]\n",
    "lamUs = [0.01, 0.1, 1, 10, 100]\n",
    "kernel_types = ['RBF', 'Linear']\n",
    "sigmas = [1,10, 20]\n",
    "nb_trials = 5\n",
    "gridSearchS3VM(lams, lamUs, kernel_types, sigmas, nb_trials, S3VMSpam, verbose=True)"
   ]
  },
  {
   "cell_type": "markdown",
   "metadata": {},
   "source": [
    "Le résultat du gridsearch nous donne un bien meilleur score pour l'algorithme S3VM. En effet avec un kernel RBF, $\\lambda = 0.01$, $\\lambda_u = 100$ et $\\sigma=20$, l'algorithme obtient un score de généralisation de 93.3% (au lieu de 83.7% auparavant). Avec ces paramètres, on favorise grandement le poids des données non labellisées.\n",
    "\n",
    "<div class=\"alert alert-warning\">\n",
    "    \n",
    "**Exercice 7:**<br>\n",
    "   Modifiez les paramètres de S3VM avec les paramètres ci-dessus dans le code permettant de comparer SVM avec toutes les données, SVM avec données labellisées et S3VM. Que pouvez vous en dire?\n",
    "</div>\n",
    "\n",
    "En relancant le code précédent permettant de comparer les trois algorithmes avec les nouveaux paramètres, on remarque que le score de S3VM a augmenté par rapport à celui de SVM sur les données labellisées, même si cela dépend fortement de la forme du working set de départ. L'algorithme S3VM peut meme atteindre des scores supérieurs à 95% sur certains cas, et a toujours un meilleur score que la SVM.\n",
    "\n",
    "Dans cet exemple, nous avons ainsi pu encore voir la force de l'algorithme de S3VM, mais aussi la nécessité d'optimiser ses paramètres pour obtenir les meilleurs performances.\n",
    "\n",
    "Les dernières parties vont maintenant être dédiées à différentes implémentations de S3VM et quelques commentaires sur leurs utilisations."
   ]
  },
  {
   "cell_type": "markdown",
   "metadata": {},
   "source": [
    "# <a id=\"sec4\"></a>IV) Les différentes formes de SVMs semi-supervisées: Avantages et inconvénients <font color=\"green\"> (15 min)"
   ]
  },
  {
   "cell_type": "markdown",
   "metadata": {},
   "source": [
    "## <a id=\"sec4-1\"></a><font color=\"red\">&nbsp;&nbsp;&nbsp;&nbsp;1) Autres formes de SVMs semi-supervisées</font>"
   ]
  },
  {
   "cell_type": "markdown",
   "metadata": {},
   "source": [
    "Nous allons rapidement vous énoncer d'autres méthodes utilisées pour réaliser des SVMs semi-supervisées, et résoudre le problème de la non-convexité du problème. Cette démarche semble intéressante pour pouvoir voir l'évolution de ce domaine à travers les deux dernières décennies. Ces méthodes peuvent servir d'ouverture aux lecteurs interessés par le sujet sachant que ce domaine de recherche est actif. De plus, chaque méthode possèdent ses différents cas d'application. Ce petit résumé peut ainsi vous aider à choisir la méthode adaptée si vous voulez implémenter une SVM semi-supervisée.\n",
    "\n",
    "Ces exemples sont particulièrement résumés dans le papier: Ding, S., Zhu, Z. & Zhang, X. An overview on semi-supervised support vector machine. Neural Comput & Applic 28, 969–978 (2017). https://doi.org/10.1007/s00521-015-2113-7"
   ]
  },
  {
   "cell_type": "markdown",
   "metadata": {},
   "source": [
    "### <a id=\"sec4-1-1\"></a><font color=\"green\">&nbsp;&nbsp;&nbsp;&nbsp;&nbsp;&nbsp;&nbsp;&nbsp;&nbsp;&nbsp;&nbsp;&nbsp; 1) Programmation linéaire en nombres entiers</font>"
   ]
  },
  {
   "cell_type": "markdown",
   "metadata": {},
   "source": [
    "Dans l'article original présentant la méthode S3VM écrit par Bennett et Demiriz en 1998: <a href=\"https://citeseerx.ist.psu.edu/viewdoc/download?doi=10.1.1.81.3947&rep=rep1&type=pdf\">Semi-Supervised Support Vector Machines</a>, les auteurs proposent une approche similaire à la méthode de résolution de la SVM en se basant sur la formulation de l'équation \\eqref{eq:slack_SVM} (formulation sous contraintes régularisée).\n",
    "\n",
    "L'astuce des auteurs est ici d'utiliser la norme 1 au lieu de la norme 2 pour le calcul du terme de régularisation. Cela permet de faire descendre la dimension, et de pouvoir utiliser un algorithme d'optimisation linéaire (Programmation linéaire en nombre entier) plutôt que quadratique. La formulation de la SVM sous la norme 1 devient alors:\n",
    "\n",
    "\\begin{equation}\n",
    "\\begin{array}{c}\n",
    "\\min\\limits_{w,w_0, s, \\xi} \\sum\\limits^{l}_{j=1} s_j + C\\sum\\limits_{i=1}^l \\xi_i\\\\\n",
    "\\text{ such that } \\forall i=1..l, \\left\\{\\begin{array}{ll}\n",
    "y_i\\left|w^T x_i + w_0 \\right|\\geq 1-\\xi_i, \\\\\n",
    "\\xi_i\\geq 0 \\\\\n",
    "s_j \\geq w_j \\geq -s_j\n",
    "\\end{array}\\right.\n",
    "\\end{array}\n",
    "\\end{equation}\n",
    "\n",
    "Pour ajouter les données non labellisées, deux contraintes sont ajoutées. L'erreur que chaque point non labellisé appartienne à une des deux classes est calculée (respectivement $\\eta_j$ et $z_j$), puis le minimum de ces erreurs est ajouté à la fonction objectif. Les contraintes sont ainsi: $ w^T x_i + w_0 + \\eta_j \\geq 1$ et $-(w^T x_i + w_0) +z_j \\geq 1$. A partir d'ici, ils convertissent le problème en un problème de programmation linéaire en nombres entiers en introduisant une variable de décision $d_j$ pour chaque point non labellisé, qui vaut $1$ si le point fait partie de la classe 1 et 0 sinon. \n",
    "\n",
    "Le problème final est alors le suivant:\n",
    "\n",
    "\\begin{equation}\n",
    "\\begin{array}{c}\n",
    "\\min\\limits_{w,w_0, \\eta, \\xi, z, d} ||w|| + C(\\sum\\limits_{i=1}^l \\eta_i + \\sum\\limits_{j=l+1}^{l+u}(\\xi_j + z_j)) \\\\ \n",
    "\\text{ such that }  \\left\\{\\begin{array}{llll}\n",
    "\\forall i=1..l, &y_i\\left(w^T x_i - w_0 \\right)\\geq 1-\\eta_i & , \\eta_i \\geq 0\\\\\n",
    "\\forall j=l+1..l+k, &w^T x_j-w_0+M(1-d_j)\\geq 1-\\xi_j &, \\xi_j\\geq 0 \\\\\n",
    "\\forall j=l+1..l+k, &-(w^T x_j-w_0)+M d_j\\geq 1-z_j &, z_j\\geq 0 \\\\\n",
    "\\forall j=l+1..l+k, & d_j \\in \\{0,1\\}\n",
    "\\end{array}\\right.\n",
    "\\end{array}\n",
    "\\label{eq:PLNE_SVM} \\tag{2}\n",
    "\\end{equation}\n",
    "\n",
    "où M est choisi très grand pour que si $d_j=0$, il est possible d'avoir $\\xi_j = 0$.\n",
    "\n",
    "\n",
    "Cette méthode a permis d'obtenir de bons résultats à la parution de l'article original. Cependant, elle est moins optimale aujourd'hui avec la rapide augmentation du nombre de données à traiter dans les problèmes de Machine Learning. En effet, la complexité de l'algorithme de résolution va rapidement augmenter avec le nombre de données.\n",
    "\n",
    "Cette implémentation pourrait se réaliser avec la bibliothèque Python Pulp, mais ne sera pas réalisée dans le cadre de ce Notebook."
   ]
  },
  {
   "cell_type": "markdown",
   "metadata": {},
   "source": [
    "### <a id=\"sec4-1-2\"></a><font color=\"green\">&nbsp;&nbsp;&nbsp;&nbsp;&nbsp;&nbsp;&nbsp;&nbsp;&nbsp;&nbsp;&nbsp;&nbsp; 2)  Transductive support vector machines (TSVM)</font>"
   ]
  },
  {
   "cell_type": "markdown",
   "metadata": {},
   "source": [
    "Une autre méthode importante dans l'apprentissage par SVM semi-supervisées, développée quasiment en même temps que la méthode précédente, est la méthode des Transductive Support Vector Machines (TSVM). Elle est également basée sur l'hypothèse de clusterisation et a été publiée par Joachims en 1999 dans le papier: <a href=\"http://citeseerx.ist.psu.edu/viewdoc/download;jsessionid=EF7FB72832A06B76A6AD78DD9B5CB048?doi=10.1.1.20.9305&rep=rep1&type=pdf\">Transductive Inference for Text Classification using Support Vector\n",
    "Machines.</a>\n",
    "\n",
    "Cette méthode, comme son nom l'indique, est basée sur une approche transductive. On se concentre alors sur un working set particulier, afin d'obtenir la classification optimale dans ce working set particulier. On ne cherche ainsi pas à généraliser sur de nouvelles futures données (contrairement aux méthodes précédentes). \n",
    "\n",
    "La formulation du problème d'optimisation est alors la suivante:\n",
    "\n",
    "\n",
    "\\begin{equation}\n",
    "\\begin{array}{c}\n",
    "\\min\\limits_{y^*,w,w_0,\\xi, \\xi^*} \\displaystyle\\frac{1}{2}\\|w\\|^2 + C\\sum\\limits_{i=1}^l \\xi_i + C^*\\sum\\limits_{i=1}^u \\xi_i^*\\\\\n",
    "\\text{ such that } , \\left\\{\\begin{array}{ll}\n",
    "\\forall i=1..l & y_i\\left(w^T x_i + w_0 \\right)\\geq 1-\\xi_i, & \\xi_i\\geq 0\\\\\n",
    "\\forall j=1..u & y_j^*\\left(w^T x_j + w_0 \\right)\\geq 1-\\xi_j^*, & \\xi_j^*\\geq 0\\\\\n",
    "\\end{array}\\right.\n",
    "\\end{array}\n",
    "\\label{eq:slack_SVM} \\tag{1}\n",
    "\\end{equation}\n",
    "\n",
    "On peut donc voir que l'on veut directement optimiser sur les données du test set $y^*$ afin de leur trouver un label. Il n'y a ainsi pas de vraie séparation entre la phase d'entrainement et la phase de test.\n",
    "\n",
    "Cet algorithme ne devra donc pas être utilisé si nous voulons ajouter de nouvelles données. De plus, un de ses défauts est que sa résolution nécessite un grand nombre d'itérations. Il peut cependant être intéressant dans le cas où on cherche à classifier des données précises.\n",
    "\n",
    "Une implémentation semble être disponible sur <a href=\"http://svmlight.joachims.org/\">le site de l'auteur de l'article</a>,  mais sans vérification de ma part.\n"
   ]
  },
  {
   "cell_type": "markdown",
   "metadata": {},
   "source": [
    "### <a id=\"sec4-1-3\"></a><font color=\"green\">&nbsp;&nbsp;&nbsp;&nbsp;&nbsp;&nbsp;&nbsp;&nbsp;&nbsp;&nbsp;&nbsp;&nbsp; 3)  Laplacien support vector machines (LapSVM)</font>"
   ]
  },
  {
   "cell_type": "markdown",
   "metadata": {},
   "source": [
    "A l'inverse des méthodes précédentes, une machine à support de vecteurs de type Laplacien est basée sur l'hypothèse manifold (dont nous avons parlé précedemment). Sans détailler précisement cette méthode, elle est basée sur une méthode d'optimisation dans les graphes. Un graphe est construit avec les données labellisées et non labellisées en tant que nodes. On peut ainsi indiquer la similarité entre des données comme les poids des edges du graphe. On peut ainsi transférer les informations sur les labels entre chaque nodes. L'hypothèse manifold est prise en compte en ajoutant un terme de régularisation qui reflète la géométrie du set de données.\n",
    "\n",
    "Ce genre de méthodes sont très intéressantes et sont au coeur d'une grande dynamique de recherche. Des progrès ont permis d'augmenter les performances des algorithmes.\n",
    "\n",
    "Cependant, l'hypothèse manifold peut parfois être trop forte, et certains points près de la frontière peuvent être mal classifiés. De plus, cet algorithme a une forte complexité puisqu'il nécessite l'inversion d'une matrice $n*n$ (n l'ensembles des données) et est donc peu adapté pour de grands datasets. Ce domaine est jeune et des améliorations de temps de calculs sont de plus en plus implémentées."
   ]
  },
  {
   "cell_type": "markdown",
   "metadata": {},
   "source": [
    "### <a id=\"sec4-1-4\"></a><font color=\"green\">&nbsp;&nbsp;&nbsp;&nbsp;&nbsp;&nbsp;&nbsp;&nbsp;&nbsp;&nbsp;&nbsp;&nbsp; 4)  meanS3VM</font>"
   ]
  },
  {
   "cell_type": "markdown",
   "metadata": {},
   "source": [
    "Dans cette méthode, publiée originellement par Li en 2009 dans l'article <a href=\"https://cs.nju.edu.cn/zhouzh/zhouzh.files/publication/icml09meanS3VM.pdf\">Semi-Supervised Learning Using Label Mean</a>, les auteurs utilisent la moyenne des labels attribuées aux données non labellisées plutôt que chaque label en lui-même. Les moyennes sont estimées, puis le problème d'optimisation devient très similaire à une SVM classique avec toutes les données. Le but de meanS3VM est ainsi de maximiser la marge entre les moyennes de labels des données non labellisées. Vous pourrez trouver la formulation exacte dans l'article original. Ils parviennent ensuite à assigner un label à chaque donnée.\n",
    "\n",
    "Le principe de travailler sur les moyennes permet de réduire le nombre de contraintes, et permet ainsi de gagner énormement en temps de calcul. En effet, cette méthode est 10 fois plus rapide que LapSVM, et 100 fois plus rapide que TSVM.\n",
    "\n",
    "Les recherches sont encourageantes sur cet algorithme, et elle est une des méthodes avec le plus de potentiel."
   ]
  },
  {
   "cell_type": "markdown",
   "metadata": {},
   "source": [
    "### <a id=\"sec4-1-5\"></a><font color=\"green\">&nbsp;&nbsp;&nbsp;&nbsp;&nbsp;&nbsp;&nbsp;&nbsp;&nbsp;&nbsp;&nbsp;&nbsp; 5)  Utilisation de modèles semi-supervisés sans modification de la SVM</font>"
   ]
  },
  {
   "cell_type": "markdown",
   "metadata": {},
   "source": [
    "Une autre manière de réaliser une SVM semi-supervisée est d'utiliser des modèles d'entrainement semi-supervisés permettant de ne pas modifier la forme de la SVM. Cela n'a pas été investigué, mais différents modèles, comme les modèles de co-training ou de <a href=\"http://pages.cs.wisc.edu/~jerryzhu/pub/sslicml07.pdf\">self learning</a> peuvent être intéressants. Par exemple, un algorithme de self learning sur une SVM va procéder de cette manière: <ul><li>Calculer la SVM sur les données labellisées</li><li>Faire une prédiction $y^*$ sur $x_u \\in X_u$</li><li>Ajouter $y^*$ aux données labellisées</li><li>Répeter jusqu'à qu'il n'y ait plus de données non labellisées</li></ul>\n",
    "\n",
    "\n",
    "Le code suivant: https://github.com/tmadl/semisup-learn, implémente une version de ces algorithmes semi-supervisés compatible avec Scikit-Learn."
   ]
  },
  {
   "cell_type": "markdown",
   "metadata": {},
   "source": [
    "## <a id=\"sec4-2\"></a><font color=\"red\">&nbsp;&nbsp;&nbsp;&nbsp;2) Commentaires généraux et perspectives</font>\n"
   ]
  },
  {
   "cell_type": "markdown",
   "metadata": {},
   "source": [
    "Nous avons ainsi investigué plusieurs méthodes qui permettent de réaliser des SVM semi-supervisées. Il se peut que vous vous retrouviez un jour face à un cas d'apprentissage semi-supervisé. Si vous décidez d'utiliser une S3VM, il faudra alors choisir quelle méthode utiliser.\n",
    "\n",
    "Au vu des précédentes analyses, les méthodes les plus prometteuses sont les méthodes de meanSVM et de LapSVM. La recherche est très active à ce sujet, et il vous faudra vous renseigner sur les dernières nouveautés qui peuvent être intéressantes.\n",
    "Vous pouvez toutefois utiliser la bibliothèque fournie dans ce notebook qui offre des bons résultats pour peu de difficultées d'implémentations. Dans tous les cas, ces méthodes sont très intéressantes et surpassent les SVM classiques dans la majorité des cas quand les données manquent. \n",
    "\n",
    "\n",
    "Une des limites de tous ces algorithmes est qu'ils ne peuvent être utilisés de manière online, puisqu'il faudrait refaire toute l'optimisation à chaque ajout d'un point. Cependant, un champ de recherche dédié aux S3VM online a fait son apparition en 2018 avec l'article de Ying Liu: Online Semi-Supervised Support Vector Machines. Les S3VM offrant de très bonnes performances, ce champ de recherche ouvre de grandes opportunités pour la recherche dans le streaming.\n"
   ]
  },
  {
   "cell_type": "markdown",
   "metadata": {},
   "source": [
    "## <a id=\"sec4-3\"></a><font color=\"red\">&nbsp;&nbsp;&nbsp;&nbsp;3) Utilisation de S3VM en multi-classes</font>\n"
   ]
  },
  {
   "cell_type": "markdown",
   "metadata": {},
   "source": [
    "Les algorithmes S3VM sont utilisables seulement dans un cas binaire, mais on peut les convertir en des algorithmes multi-classes. Les méthodes les plus simples consistent à utiliser un one vs other comme dans les SVM. Cependant, des articles de recherches se focalisent sur l'optimisation du cas multi classe, comme cet article:\n",
    "\n",
    "https://www.sciencedirect.com/science/article/abs/pii/S0925231219313074"
   ]
  },
  {
   "cell_type": "markdown",
   "metadata": {},
   "source": [
    "# <a id=\"sec6\"></a> V) Conclusion "
   ]
  },
  {
   "cell_type": "markdown",
   "metadata": {},
   "source": [
    "Dans ce notebook, nous avons découvert le champ de recherches sur l'apprentissage semi-supervisé avec des machines à supports de vecteurs. Nous avons pu démontrer l'interêt de ce type de méthodes, et ses applications. \n",
    "\n",
    "Après une introduction sur l'apprentissage supervisé où le lecteur pourra revenir pour découvrir des applications concrètes de cette science, nous avons réalisé une étude sur les S3VM à travers un cas d'exemple typique du semi-supervisé. A partir d'ici, nous avons développé notre premier modèle de S3VM en nous basant sur une méthode utilisant une optimisation de quasi-newton et une approximation des fonctions loss de la modélisation. Une bibliothèque réutilisable utilisant les mêmes méthodes a ensuite été vue, et appliquée sur des datasets réels. Ces exemples ont démontré l'interêt et la force de cet algorithme. \n",
    "\n",
    "Afin de pouvoir orienter le lecteur désirant utiliser un apprentissage semi-supervisé à base de SVM, d'autres méthodes de S3VM ont été présentées. Certaines méthodes (meanS3VM et LapSVM) apportent de réels progrès par rapport à la méthode présentée dans le Notebook et pourront être étudiées plus en détail. Ce champ de recherche étant assez jeune et en plein essor, nul doute que de futures articles viendront encore améliorer ces méthodes.\n",
    "\n",
    "<div class=\"alert alert-success\"> Je vous remercie d'avoir lu ce Notebook jusqu'au bout, et j'espère que la lecture vous aura été utile. Si vous avez des questions, n'hésitez pas à me contacter à cette adresse mail: Yanis.CHAIGNEAU@student.isae-supaero.fr</div>"
   ]
  },
  {
   "cell_type": "markdown",
   "metadata": {},
   "source": [
    "### <i>Sources<i/>"
   ]
  },
  {
   "cell_type": "markdown",
   "metadata": {},
   "source": [
    "<div class=\"alert alert-success\">Toutes ces publications sont présentent dans le dossier source sous la forme <b>\"auteur_année.pdf\"</b></div>"
   ]
  },
  {
   "cell_type": "markdown",
   "metadata": {},
   "source": [
    "[1] Ding, S., Zhu, Z. & Zhang, X. An overview on semi-supervised support vector machine. Neural Comput & Applic 28, 969–978 (2017). https://doi.org/10.1007/s00521-015-2113-7\n",
    "\n",
    "[2] Fabian Gieseke, Antti Airola, Tapio Pahikkala, Oliver Kramer, Fast and simple gradient-based optimization for semi-supervised support vector machines, Neurocomputing, Volume 123, 2014, Pages 23-32, ISSN 0925-2312, https://doi.org/10.1016/j.neucom.2012.12.056.\n",
    "\n",
    "[3] Chapelle, O., Chi, M., & Zien, A. (2006). A continuation method for semi-supervised SVMs. Proceedings of the 23rd International Conference on Machine Learning  - ICML  ’06. https://doi:10.1145/1143844.1143868 \n",
    "\n",
    "[4] Bennett, K., & Demiriz, A. (1998). Semi-Supervised Support Vector Machines. NIPS. <a href=\"https://www.semanticscholar.org/paper/Semi-Supervised-Support-Vector-Machines-Bennett-Demiriz/8198e70878c907e1bd05e7a3fa4280d8c338df60\">link</a>\n"
   ]
  }
 ],
 "metadata": {
  "kernelspec": {
   "display_name": "Python 3",
   "language": "python",
   "name": "python3"
  },
  "language_info": {
   "codemirror_mode": {
    "name": "ipython",
    "version": 3
   },
   "file_extension": ".py",
   "mimetype": "text/x-python",
   "name": "python",
   "nbconvert_exporter": "python",
   "pygments_lexer": "ipython3",
   "version": "3.7.6"
  }
 },
 "nbformat": 4,
 "nbformat_minor": 4
}
